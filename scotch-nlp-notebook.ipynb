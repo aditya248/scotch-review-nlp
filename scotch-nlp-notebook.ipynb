{
 "cells": [
  {
   "cell_type": "code",
   "execution_count": 2,
   "metadata": {},
   "outputs": [],
   "source": [
    "# imports\n",
    "import pandas as pd\n",
    "import seaborn as sns"
   ]
  },
  {
   "cell_type": "code",
   "execution_count": 3,
   "metadata": {},
   "outputs": [
    {
     "data": {
      "text/html": [
       "<div>\n",
       "<style scoped>\n",
       "    .dataframe tbody tr th:only-of-type {\n",
       "        vertical-align: middle;\n",
       "    }\n",
       "\n",
       "    .dataframe tbody tr th {\n",
       "        vertical-align: top;\n",
       "    }\n",
       "\n",
       "    .dataframe thead th {\n",
       "        text-align: right;\n",
       "    }\n",
       "</style>\n",
       "<table border=\"1\" class=\"dataframe\">\n",
       "  <thead>\n",
       "    <tr style=\"text-align: right;\">\n",
       "      <th></th>\n",
       "      <th>id</th>\n",
       "      <th>name</th>\n",
       "      <th>category</th>\n",
       "      <th>review.point</th>\n",
       "      <th>price</th>\n",
       "      <th>currency</th>\n",
       "      <th>description.1.2247.</th>\n",
       "    </tr>\n",
       "  </thead>\n",
       "  <tbody>\n",
       "    <tr>\n",
       "      <th>2187</th>\n",
       "      <td>2188</td>\n",
       "      <td>Glenfiddich IPA Experiment, 43%</td>\n",
       "      <td>Single Malt Scotch</td>\n",
       "      <td>84</td>\n",
       "      <td>70</td>\n",
       "      <td>$</td>\n",
       "      <td>Arran first introduced its peated Machrie Moor...</td>\n",
       "    </tr>\n",
       "    <tr>\n",
       "      <th>342</th>\n",
       "      <td>343</td>\n",
       "      <td>Laphroaig 10 year old, 40%</td>\n",
       "      <td>Single Malt Scotch</td>\n",
       "      <td>92</td>\n",
       "      <td>50</td>\n",
       "      <td>$</td>\n",
       "      <td>The latest annual limited release is classic a...</td>\n",
       "    </tr>\n",
       "    <tr>\n",
       "      <th>1230</th>\n",
       "      <td>1231</td>\n",
       "      <td>The Glenrothes (Vintage Cask #3) 1998 Vintage,...</td>\n",
       "      <td>Single Malt Scotch</td>\n",
       "      <td>88</td>\n",
       "      <td>110</td>\n",
       "      <td>$</td>\n",
       "      <td>Distilled in 2004, this 11 year old sherry cas...</td>\n",
       "    </tr>\n",
       "  </tbody>\n",
       "</table>\n",
       "</div>"
      ],
      "text/plain": [
       "        id                                               name  \\\n",
       "2187  2188                    Glenfiddich IPA Experiment, 43%   \n",
       "342    343                         Laphroaig 10 year old, 40%   \n",
       "1230  1231  The Glenrothes (Vintage Cask #3) 1998 Vintage,...   \n",
       "\n",
       "                category  review.point price currency  \\\n",
       "2187  Single Malt Scotch            84    70        $   \n",
       "342   Single Malt Scotch            92    50        $   \n",
       "1230  Single Malt Scotch            88   110        $   \n",
       "\n",
       "                                    description.1.2247.  \n",
       "2187  Arran first introduced its peated Machrie Moor...  \n",
       "342   The latest annual limited release is classic a...  \n",
       "1230  Distilled in 2004, this 11 year old sherry cas...  "
      ]
     },
     "execution_count": 3,
     "metadata": {},
     "output_type": "execute_result"
    }
   ],
   "source": [
    "# Dataset\n",
    "scotch_dataset = pd.read_csv(\"https://raw.githubusercontent.com/aditya248/scotch-review-nlp/main/scotch_review2020.csv\")\n",
    "scotch_dataset.sample(3)"
   ]
  }
 ],
 "metadata": {
  "interpreter": {
   "hash": "b3ba2566441a7c06988d0923437866b63cedc61552a5af99d1f4fb67d367b25f"
  },
  "kernelspec": {
   "display_name": "Python 3.8.5 64-bit ('base': conda)",
   "language": "python",
   "name": "python3"
  },
  "language_info": {
   "codemirror_mode": {
    "name": "ipython",
    "version": 3
   },
   "file_extension": ".py",
   "mimetype": "text/x-python",
   "name": "python",
   "nbconvert_exporter": "python",
   "pygments_lexer": "ipython3",
   "version": "3.8.12"
  },
  "orig_nbformat": 4
 },
 "nbformat": 4,
 "nbformat_minor": 2
}
