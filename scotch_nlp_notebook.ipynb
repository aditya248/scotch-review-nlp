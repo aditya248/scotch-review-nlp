{
  "nbformat": 4,
  "nbformat_minor": 0,
  "metadata": {
    "interpreter": {
      "hash": "b3ba2566441a7c06988d0923437866b63cedc61552a5af99d1f4fb67d367b25f"
    },
    "kernelspec": {
      "display_name": "Python 3.8.5 64-bit ('base': conda)",
      "language": "python",
      "name": "python3"
    },
    "language_info": {
      "codemirror_mode": {
        "name": "ipython",
        "version": 3
      },
      "file_extension": ".py",
      "mimetype": "text/x-python",
      "name": "python",
      "nbconvert_exporter": "python",
      "pygments_lexer": "ipython3",
      "version": "3.8.12"
    },
    "orig_nbformat": 4,
    "colab": {
      "name": "scotch-nlp-notebook.ipynb",
      "provenance": [],
      "collapsed_sections": []
    }
  },
  "cells": [
    {
      "cell_type": "code",
      "metadata": {
        "id": "Z-vkPj5fcsj1"
      },
      "source": [
        "# imports\n",
        "import pandas as pd\n",
        "import seaborn as sns"
      ],
      "execution_count": 1,
      "outputs": []
    },
    {
      "cell_type": "code",
      "metadata": {
        "id": "8ipI7Juocsj6",
        "colab": {
          "base_uri": "https://localhost:8080/",
          "height": 143
        },
        "outputId": "ee766bec-3309-419e-eb2e-faaaa23a345a"
      },
      "source": [
        "# dataset\n",
        "scotch_dataset = pd.read_csv(\"https://raw.githubusercontent.com/aditya248/scotch-review-nlp/main/scotch_review2020.csv\")\n",
        "scotch_dataset.sample(3)"
      ],
      "execution_count": 2,
      "outputs": [
        {
          "output_type": "execute_result",
          "data": {
            "text/html": [
              "<div>\n",
              "<style scoped>\n",
              "    .dataframe tbody tr th:only-of-type {\n",
              "        vertical-align: middle;\n",
              "    }\n",
              "\n",
              "    .dataframe tbody tr th {\n",
              "        vertical-align: top;\n",
              "    }\n",
              "\n",
              "    .dataframe thead th {\n",
              "        text-align: right;\n",
              "    }\n",
              "</style>\n",
              "<table border=\"1\" class=\"dataframe\">\n",
              "  <thead>\n",
              "    <tr style=\"text-align: right;\">\n",
              "      <th></th>\n",
              "      <th>id</th>\n",
              "      <th>name</th>\n",
              "      <th>category</th>\n",
              "      <th>review.point</th>\n",
              "      <th>price</th>\n",
              "      <th>currency</th>\n",
              "      <th>description.1.2247.</th>\n",
              "    </tr>\n",
              "  </thead>\n",
              "  <tbody>\n",
              "    <tr>\n",
              "      <th>2196</th>\n",
              "      <td>2197</td>\n",
              "      <td>Jamie Stewart, 40%</td>\n",
              "      <td>Blended Scotch Whisky</td>\n",
              "      <td>84</td>\n",
              "      <td>16</td>\n",
              "      <td>$</td>\n",
              "      <td>It’s Double Wood, Jim, but not as we know it. ...</td>\n",
              "    </tr>\n",
              "    <tr>\n",
              "      <th>1800</th>\n",
              "      <td>1801</td>\n",
              "      <td>Old Pulteney Dunnet Head, 46%</td>\n",
              "      <td>Single Malt Scotch</td>\n",
              "      <td>86</td>\n",
              "      <td>85</td>\n",
              "      <td>$</td>\n",
              "      <td>Distilled in October 1997 and aged in a single...</td>\n",
              "    </tr>\n",
              "    <tr>\n",
              "      <th>1198</th>\n",
              "      <td>1199</td>\n",
              "      <td>Ben Nevis 15 year old 1998 (Cask #590), 57.3%</td>\n",
              "      <td>Single Malt Scotch</td>\n",
              "      <td>88</td>\n",
              "      <td>140</td>\n",
              "      <td>$</td>\n",
              "      <td>This bottling of triple-distilled Hazelburn co...</td>\n",
              "    </tr>\n",
              "  </tbody>\n",
              "</table>\n",
              "</div>"
            ],
            "text/plain": [
              "        id  ...                                description.1.2247.\n",
              "2196  2197  ...  It’s Double Wood, Jim, but not as we know it. ...\n",
              "1800  1801  ...  Distilled in October 1997 and aged in a single...\n",
              "1198  1199  ...  This bottling of triple-distilled Hazelburn co...\n",
              "\n",
              "[3 rows x 7 columns]"
            ]
          },
          "metadata": {},
          "execution_count": 2
        }
      ]
    },
    {
      "cell_type": "markdown",
      "metadata": {
        "id": "QC17lbOQgA30"
      },
      "source": [
        "## Data Cleaning"
      ]
    },
    {
      "cell_type": "code",
      "metadata": {
        "colab": {
          "base_uri": "https://localhost:8080/"
        },
        "id": "fXMInnZShgfP",
        "outputId": "ebaeab99-6807-4231-cb62-e48ce0507770"
      },
      "source": [
        "scotch_dataset.shape"
      ],
      "execution_count": 3,
      "outputs": [
        {
          "output_type": "execute_result",
          "data": {
            "text/plain": [
              "(2247, 7)"
            ]
          },
          "metadata": {},
          "execution_count": 3
        }
      ]
    },
    {
      "cell_type": "code",
      "metadata": {
        "colab": {
          "base_uri": "https://localhost:8080/"
        },
        "id": "5xPHf26Bh72H",
        "outputId": "a9991c88-0aee-415d-ebbe-5bc005a3b7b8"
      },
      "source": [
        "scotch_dataset.columns"
      ],
      "execution_count": 4,
      "outputs": [
        {
          "output_type": "execute_result",
          "data": {
            "text/plain": [
              "Index(['id', 'name', 'category', 'review.point', 'price', 'currency',\n",
              "       'description.1.2247.'],\n",
              "      dtype='object')"
            ]
          },
          "metadata": {},
          "execution_count": 4
        }
      ]
    },
    {
      "cell_type": "code",
      "metadata": {
        "colab": {
          "base_uri": "https://localhost:8080/"
        },
        "id": "Iyua1QnqkHia",
        "outputId": "44e8d761-685b-406c-d4d8-0d592fe34db1"
      },
      "source": [
        "# check column types\n",
        "scotch_dataset.dtypes"
      ],
      "execution_count": 5,
      "outputs": [
        {
          "output_type": "execute_result",
          "data": {
            "text/plain": [
              "id                      int64\n",
              "name                   object\n",
              "category               object\n",
              "review.point            int64\n",
              "price                  object\n",
              "currency               object\n",
              "description.1.2247.    object\n",
              "dtype: object"
            ]
          },
          "metadata": {},
          "execution_count": 5
        }
      ]
    },
    {
      "cell_type": "code",
      "metadata": {
        "colab": {
          "base_uri": "https://localhost:8080/"
        },
        "id": "bP73Kt7clXVG",
        "outputId": "1feead45-86e4-437b-befb-a8259d8a76c2"
      },
      "source": [
        "# Clean price column price and change type.\n",
        "pattern = r'[A-Za-z]'\n",
        "scotch_dataset[scotch_dataset['price'].str.contains(pattern)]['price']"
      ],
      "execution_count": 6,
      "outputs": [
        {
          "output_type": "execute_result",
          "data": {
            "text/plain": [
              "33      15,000 or $60,000/set\n",
              "92                 150/375ml.\n",
              "94                  50/375ml.\n",
              "186                60,000/set\n",
              "359                 50/375ml.\n",
              "739                60,000/set\n",
              "778                100/375ml.\n",
              "1010                 44/liter\n",
              "1280               132/700ml.\n",
              "1548               60,000/set\n",
              "1814               60,000/set\n",
              "1825            39/1.75 liter\n",
              "2027                 35/liter\n",
              "2200            18/1.75 liter\n",
              "Name: price, dtype: object"
            ]
          },
          "metadata": {},
          "execution_count": 6
        }
      ]
    },
    {
      "cell_type": "code",
      "metadata": {
        "id": "TVkwwcVekbWN"
      },
      "source": [
        "scotch_dataset.iloc[33,4] = '15000'\n",
        "scotch_dataset['price'].replace(',', '', inplace = True, regex = True)\n",
        "scotch_dataset['price'] = scotch_dataset['price'].map(lambda x: x.split('/')[0])"
      ],
      "execution_count": 7,
      "outputs": []
    },
    {
      "cell_type": "code",
      "metadata": {
        "id": "eUuhDR6HlCGY"
      },
      "source": [
        "scotch_dataset['price'] = scotch_dataset['price'].astype('float')"
      ],
      "execution_count": 8,
      "outputs": []
    },
    {
      "cell_type": "code",
      "metadata": {
        "id": "0bRvd_zmmAuv"
      },
      "source": [
        "# Change type for \n",
        "scotch_dataset['review.point'] = scotch_dataset['review.point'].astype('int')"
      ],
      "execution_count": 9,
      "outputs": []
    },
    {
      "cell_type": "code",
      "metadata": {
        "colab": {
          "base_uri": "https://localhost:8080/"
        },
        "id": "fTFwGdJ1gCUi",
        "outputId": "8464fd50-edca-43b0-eea7-3a79d536b511"
      },
      "source": [
        "# check for duplicates\n",
        "scotch_dataset.duplicated().sum()"
      ],
      "execution_count": 10,
      "outputs": [
        {
          "output_type": "execute_result",
          "data": {
            "text/plain": [
              "0"
            ]
          },
          "metadata": {},
          "execution_count": 10
        }
      ]
    },
    {
      "cell_type": "code",
      "metadata": {
        "colab": {
          "base_uri": "https://localhost:8080/"
        },
        "id": "xuU6ajb2gVIJ",
        "outputId": "234ffe09-7e69-44c9-80f7-bb358a50f21c"
      },
      "source": [
        "# check for null values\n",
        "scotch_dataset.isna().sum()"
      ],
      "execution_count": 11,
      "outputs": [
        {
          "output_type": "execute_result",
          "data": {
            "text/plain": [
              "id                      0\n",
              "name                    0\n",
              "category                0\n",
              "review.point            0\n",
              "price                   0\n",
              "currency                0\n",
              "description.1.2247.    39\n",
              "dtype: int64"
            ]
          },
          "metadata": {},
          "execution_count": 11
        }
      ]
    },
    {
      "cell_type": "code",
      "metadata": {
        "colab": {
          "base_uri": "https://localhost:8080/"
        },
        "id": "60RNGhSfglKZ",
        "outputId": "8adf97d4-fd24-4de3-f96d-14e1817fb872"
      },
      "source": [
        "# drop 39 null or na values\n",
        "scotch_dataset.dropna(inplace=True)\n",
        "scotch_dataset.isna().sum()"
      ],
      "execution_count": 12,
      "outputs": [
        {
          "output_type": "execute_result",
          "data": {
            "text/plain": [
              "id                     0\n",
              "name                   0\n",
              "category               0\n",
              "review.point           0\n",
              "price                  0\n",
              "currency               0\n",
              "description.1.2247.    0\n",
              "dtype: int64"
            ]
          },
          "metadata": {},
          "execution_count": 12
        }
      ]
    },
    {
      "cell_type": "code",
      "metadata": {
        "colab": {
          "base_uri": "https://localhost:8080/",
          "height": 1000
        },
        "id": "Ydmb6-90iu6V",
        "outputId": "8b86e46f-61a7-4e3b-a27e-f7002063a81c"
      },
      "source": [
        "scotch_dataset[scotch_dataset['name'].duplicated() == True]"
      ],
      "execution_count": 13,
      "outputs": [
        {
          "output_type": "execute_result",
          "data": {
            "text/html": [
              "<div>\n",
              "<style scoped>\n",
              "    .dataframe tbody tr th:only-of-type {\n",
              "        vertical-align: middle;\n",
              "    }\n",
              "\n",
              "    .dataframe tbody tr th {\n",
              "        vertical-align: top;\n",
              "    }\n",
              "\n",
              "    .dataframe thead th {\n",
              "        text-align: right;\n",
              "    }\n",
              "</style>\n",
              "<table border=\"1\" class=\"dataframe\">\n",
              "  <thead>\n",
              "    <tr style=\"text-align: right;\">\n",
              "      <th></th>\n",
              "      <th>id</th>\n",
              "      <th>name</th>\n",
              "      <th>category</th>\n",
              "      <th>review.point</th>\n",
              "      <th>price</th>\n",
              "      <th>currency</th>\n",
              "      <th>description.1.2247.</th>\n",
              "    </tr>\n",
              "  </thead>\n",
              "  <tbody>\n",
              "    <tr>\n",
              "      <th>108</th>\n",
              "      <td>109</td>\n",
              "      <td>Benriach The Smoky Twelve, 46%</td>\n",
              "      <td>Single Malt Scotch</td>\n",
              "      <td>94</td>\n",
              "      <td>65.0</td>\n",
              "      <td>$</td>\n",
              "      <td>\\r\\n\\r\\nLet this whisky glide into your glass ...</td>\n",
              "    </tr>\n",
              "    <tr>\n",
              "      <th>192</th>\n",
              "      <td>193</td>\n",
              "      <td>Laphroaig Triple Wood, 48%</td>\n",
              "      <td>Single Malt Scotch</td>\n",
              "      <td>93</td>\n",
              "      <td>70.0</td>\n",
              "      <td>$</td>\n",
              "      <td>Aged in a European oak oloroso sherry hogshead...</td>\n",
              "    </tr>\n",
              "    <tr>\n",
              "      <th>199</th>\n",
              "      <td>200</td>\n",
              "      <td>Laphroaig 10 year old Cask Strength (Batch 010...</td>\n",
              "      <td>Single Malt Scotch</td>\n",
              "      <td>93</td>\n",
              "      <td>70.0</td>\n",
              "      <td>$</td>\n",
              "      <td>Initially matured in bourbon barrels, then tra...</td>\n",
              "    </tr>\n",
              "    <tr>\n",
              "      <th>202</th>\n",
              "      <td>203</td>\n",
              "      <td>Compass Box Spice Tree Extravaganza, 46%</td>\n",
              "      <td>Blended Malt Scotch Whisky</td>\n",
              "      <td>93</td>\n",
              "      <td>140.0</td>\n",
              "      <td>$</td>\n",
              "      <td>The nose offers canned peach halves in syrup, ...</td>\n",
              "    </tr>\n",
              "    <tr>\n",
              "      <th>215</th>\n",
              "      <td>216</td>\n",
              "      <td>Glenlivet Enigma, 60.6%</td>\n",
              "      <td>Single Malt Scotch</td>\n",
              "      <td>93</td>\n",
              "      <td>149.0</td>\n",
              "      <td>$</td>\n",
              "      <td>This presents a mellow bouquet of rich dried f...</td>\n",
              "    </tr>\n",
              "    <tr>\n",
              "      <th>217</th>\n",
              "      <td>218</td>\n",
              "      <td>Aberlour A’bunadh Alba Cask Strength (Batch #0...</td>\n",
              "      <td>Single Malt Scotch</td>\n",
              "      <td>93</td>\n",
              "      <td>90.0</td>\n",
              "      <td>$</td>\n",
              "      <td>The yin to Aberlour A’bunadh’s yang, this cask...</td>\n",
              "    </tr>\n",
              "    <tr>\n",
              "      <th>231</th>\n",
              "      <td>232</td>\n",
              "      <td>Compass Box The Peat Monster, 46%</td>\n",
              "      <td>Blended Malt Scotch Whisky</td>\n",
              "      <td>93</td>\n",
              "      <td>65.0</td>\n",
              "      <td>$</td>\n",
              "      <td>An exceptional blend from first-fill American ...</td>\n",
              "    </tr>\n",
              "    <tr>\n",
              "      <th>232</th>\n",
              "      <td>233</td>\n",
              "      <td>Aberfeldy 18 year old French Red Wine Cask-Fin...</td>\n",
              "      <td>Single Malt Scotch</td>\n",
              "      <td>93</td>\n",
              "      <td>120.0</td>\n",
              "      <td>$</td>\n",
              "      <td>Perfumed on the nose, with fresh-cut flowers, ...</td>\n",
              "    </tr>\n",
              "    <tr>\n",
              "      <th>315</th>\n",
              "      <td>316</td>\n",
              "      <td>Tamdhu Batch Strength (#002), 58.5%</td>\n",
              "      <td>Single Malt Scotch</td>\n",
              "      <td>92</td>\n",
              "      <td>90.0</td>\n",
              "      <td>$</td>\n",
              "      <td>It rarely gets better than this. Vanilla, almo...</td>\n",
              "    </tr>\n",
              "    <tr>\n",
              "      <th>324</th>\n",
              "      <td>325</td>\n",
              "      <td>Longrow 18 year old, 46%</td>\n",
              "      <td>Single Malt Scotch</td>\n",
              "      <td>92</td>\n",
              "      <td>220.0</td>\n",
              "      <td>$</td>\n",
              "      <td>This 42 year old expression was matured in a s...</td>\n",
              "    </tr>\n",
              "    <tr>\n",
              "      <th>354</th>\n",
              "      <td>355</td>\n",
              "      <td>GlenDronach 15 year old Revival, 46%</td>\n",
              "      <td>Single Malt Scotch</td>\n",
              "      <td>92</td>\n",
              "      <td>90.0</td>\n",
              "      <td>$</td>\n",
              "      <td>Sun-bleached driftwood, iodine, curry spices, ...</td>\n",
              "    </tr>\n",
              "    <tr>\n",
              "      <th>359</th>\n",
              "      <td>360</td>\n",
              "      <td>Dewar’s 21 year old Double Double, 46%</td>\n",
              "      <td>Blended Scotch Whisky</td>\n",
              "      <td>92</td>\n",
              "      <td>50.0</td>\n",
              "      <td>$</td>\n",
              "      <td>Slightly oily on the nose, with old leather, g...</td>\n",
              "    </tr>\n",
              "    <tr>\n",
              "      <th>376</th>\n",
              "      <td>377</td>\n",
              "      <td>Laphroaig Càirdeas Cask Strength Triple Wood (...</td>\n",
              "      <td>Single Malt Scotch</td>\n",
              "      <td>92</td>\n",
              "      <td>80.0</td>\n",
              "      <td>$</td>\n",
              "      <td>This Quinta Ruban succeeds the 12 year old ver...</td>\n",
              "    </tr>\n",
              "    <tr>\n",
              "      <th>391</th>\n",
              "      <td>392</td>\n",
              "      <td>Ardbeg 5 year old Wee Beastie, 47.4%</td>\n",
              "      <td>Single Malt Scotch</td>\n",
              "      <td>92</td>\n",
              "      <td>47.0</td>\n",
              "      <td>$</td>\n",
              "      <td>On the nose, intense fruit underlaid with smok...</td>\n",
              "    </tr>\n",
              "    <tr>\n",
              "      <th>393</th>\n",
              "      <td>394</td>\n",
              "      <td>Compass Box The Peat Monster, 46%</td>\n",
              "      <td>Blended Malt Scotch Whisky</td>\n",
              "      <td>92</td>\n",
              "      <td>65.0</td>\n",
              "      <td>$</td>\n",
              "      <td>The nose is thick with bakeshop aromas: sponge...</td>\n",
              "    </tr>\n",
              "    <tr>\n",
              "      <th>409</th>\n",
              "      <td>410</td>\n",
              "      <td>Bowmore 18 year old, 43%</td>\n",
              "      <td>Single Malt Scotch</td>\n",
              "      <td>91</td>\n",
              "      <td>85.0</td>\n",
              "      <td>$</td>\n",
              "      <td>This first cask-strength expression in Highlan...</td>\n",
              "    </tr>\n",
              "    <tr>\n",
              "      <th>510</th>\n",
              "      <td>511</td>\n",
              "      <td>Laphroaig Quarter Cask, 48%</td>\n",
              "      <td>Single Malt Scotch</td>\n",
              "      <td>91</td>\n",
              "      <td>60.0</td>\n",
              "      <td>$</td>\n",
              "      <td>This 23 year old expression was released for t...</td>\n",
              "    </tr>\n",
              "    <tr>\n",
              "      <th>525</th>\n",
              "      <td>526</td>\n",
              "      <td>Talisker Select Reserve, 45.8%</td>\n",
              "      <td>Single Malt Scotch</td>\n",
              "      <td>91</td>\n",
              "      <td>45.0</td>\n",
              "      <td>$</td>\n",
              "      <td>This is one of four new additions to the portf...</td>\n",
              "    </tr>\n",
              "    <tr>\n",
              "      <th>526</th>\n",
              "      <td>527</td>\n",
              "      <td>Kilchoman Loch Gorm 2018, 46%</td>\n",
              "      <td>Single Malt Scotch</td>\n",
              "      <td>91</td>\n",
              "      <td>110.0</td>\n",
              "      <td>$</td>\n",
              "      <td>Complex, elegant textures from the get-go; woo...</td>\n",
              "    </tr>\n",
              "    <tr>\n",
              "      <th>527</th>\n",
              "      <td>528</td>\n",
              "      <td>Sheep Dip Islay Blended Malt, 40%</td>\n",
              "      <td>Blended Malt Scotch Whisky</td>\n",
              "      <td>91</td>\n",
              "      <td>60.0</td>\n",
              "      <td>$</td>\n",
              "      <td>Fresh morning blooms in the flower shop, soft ...</td>\n",
              "    </tr>\n",
              "    <tr>\n",
              "      <th>535</th>\n",
              "      <td>536</td>\n",
              "      <td>Glenmorangie 14 year old Quinta Ruban, 46%</td>\n",
              "      <td>Single Malt Scotch</td>\n",
              "      <td>91</td>\n",
              "      <td>55.0</td>\n",
              "      <td>$</td>\n",
              "      <td>This represents House Greyjoy and features its...</td>\n",
              "    </tr>\n",
              "    <tr>\n",
              "      <th>541</th>\n",
              "      <td>542</td>\n",
              "      <td>Bruichladdich Bere Barley 2010, 50%</td>\n",
              "      <td>Single Malt Scotch</td>\n",
              "      <td>91</td>\n",
              "      <td>100.0</td>\n",
              "      <td>$</td>\n",
              "      <td>Six different cask finishes were used for this...</td>\n",
              "    </tr>\n",
              "    <tr>\n",
              "      <th>553</th>\n",
              "      <td>554</td>\n",
              "      <td>Glenmorangie 15 year old The Cadboll Estate, 43%</td>\n",
              "      <td>Single Malt Scotch</td>\n",
              "      <td>91</td>\n",
              "      <td>85.0</td>\n",
              "      <td>$</td>\n",
              "      <td>The first 15 year old release from Talisker, t...</td>\n",
              "    </tr>\n",
              "    <tr>\n",
              "      <th>615</th>\n",
              "      <td>616</td>\n",
              "      <td>Laphroaig Triple Wood, 48%</td>\n",
              "      <td>Single Malt Scotch</td>\n",
              "      <td>90</td>\n",
              "      <td>100.0</td>\n",
              "      <td>$</td>\n",
              "      <td>This is not a single-cask bottling like other ...</td>\n",
              "    </tr>\n",
              "    <tr>\n",
              "      <th>696</th>\n",
              "      <td>697</td>\n",
              "      <td>Compass Box The Peat Monster, 46%</td>\n",
              "      <td>Blended Scotch Whisky</td>\n",
              "      <td>90</td>\n",
              "      <td>60.0</td>\n",
              "      <td>$</td>\n",
              "      <td>Deep amber. Big, resinous, and almost heathery...</td>\n",
              "    </tr>\n",
              "    <tr>\n",
              "      <th>715</th>\n",
              "      <td>716</td>\n",
              "      <td>Glen Moray 18 year old, 47.2%</td>\n",
              "      <td>Single Malt Scotch</td>\n",
              "      <td>90</td>\n",
              "      <td>90.0</td>\n",
              "      <td>$</td>\n",
              "      <td>Having replaced the 16 year old Longmorn with ...</td>\n",
              "    </tr>\n",
              "    <tr>\n",
              "      <th>717</th>\n",
              "      <td>718</td>\n",
              "      <td>Bruichladdich Islay Barley 2010, 50%</td>\n",
              "      <td>Single Malt Scotch</td>\n",
              "      <td>90</td>\n",
              "      <td>65.0</td>\n",
              "      <td>$</td>\n",
              "      <td>This limited release was aged in seven cask ty...</td>\n",
              "    </tr>\n",
              "    <tr>\n",
              "      <th>728</th>\n",
              "      <td>729</td>\n",
              "      <td>Chapter 7 (undisclosed Highland distillery), 5...</td>\n",
              "      <td>Single Malt Scotch</td>\n",
              "      <td>90</td>\n",
              "      <td>180.0</td>\n",
              "      <td>$</td>\n",
              "      <td>Part of anCnoc’s Peaty Collection, Cutter has ...</td>\n",
              "    </tr>\n",
              "    <tr>\n",
              "      <th>774</th>\n",
              "      <td>775</td>\n",
              "      <td>Chivas Regal Ultis, 40%</td>\n",
              "      <td>Blended Malt Scotch Whisky</td>\n",
              "      <td>90</td>\n",
              "      <td>160.0</td>\n",
              "      <td>$</td>\n",
              "      <td>An array of flowers and fruits tumbles from th...</td>\n",
              "    </tr>\n",
              "    <tr>\n",
              "      <th>788</th>\n",
              "      <td>789</td>\n",
              "      <td>BenRiach 25 year old, 46.8%</td>\n",
              "      <td>Single Malt Scotch</td>\n",
              "      <td>90</td>\n",
              "      <td>300.0</td>\n",
              "      <td>$</td>\n",
              "      <td>This is the oldest regular bottling from Glenm...</td>\n",
              "    </tr>\n",
              "    <tr>\n",
              "      <th>809</th>\n",
              "      <td>810</td>\n",
              "      <td>Tomintoul 25 year old, 43%</td>\n",
              "      <td>Single Malt Scotch</td>\n",
              "      <td>90</td>\n",
              "      <td>500.0</td>\n",
              "      <td>$</td>\n",
              "      <td>Toiteach A Dhà means ‘smoky two’ in Gaelic and...</td>\n",
              "    </tr>\n",
              "    <tr>\n",
              "      <th>813</th>\n",
              "      <td>814</td>\n",
              "      <td>Balblair 15 year old, 46%</td>\n",
              "      <td>Single Malt Scotch</td>\n",
              "      <td>90</td>\n",
              "      <td>120.0</td>\n",
              "      <td>$</td>\n",
              "      <td>GlenDronach is known for its unpeated sherry-m...</td>\n",
              "    </tr>\n",
              "    <tr>\n",
              "      <th>845</th>\n",
              "      <td>846</td>\n",
              "      <td>Glenlivet Archive 21 year old, 43%</td>\n",
              "      <td>Single Malt Scotch</td>\n",
              "      <td>89</td>\n",
              "      <td>130.0</td>\n",
              "      <td>$</td>\n",
              "      <td>Amber with orange and ruby hues. Aromas of Isl...</td>\n",
              "    </tr>\n",
              "    <tr>\n",
              "      <th>853</th>\n",
              "      <td>854</td>\n",
              "      <td>Longmorn 16 year old, 48%</td>\n",
              "      <td>Single Malt Scotch</td>\n",
              "      <td>89</td>\n",
              "      <td>90.0</td>\n",
              "      <td>$</td>\n",
              "      <td>Mahogany color. Full-bodied, thick and chewy. ...</td>\n",
              "    </tr>\n",
              "    <tr>\n",
              "      <th>882</th>\n",
              "      <td>883</td>\n",
              "      <td>Longmorn 16 year old, 48%</td>\n",
              "      <td>Single Malt Scotch</td>\n",
              "      <td>89</td>\n",
              "      <td>110.0</td>\n",
              "      <td>$</td>\n",
              "      <td>Part of the “Rarest of the Rare” collection. M...</td>\n",
              "    </tr>\n",
              "    <tr>\n",
              "      <th>894</th>\n",
              "      <td>895</td>\n",
              "      <td>Caol Ila 12 year old, 43%</td>\n",
              "      <td>Single Malt Scotch</td>\n",
              "      <td>89</td>\n",
              "      <td>65.0</td>\n",
              "      <td>$</td>\n",
              "      <td>Soft and gentle (for Caol Ila, that is), thank...</td>\n",
              "    </tr>\n",
              "    <tr>\n",
              "      <th>1049</th>\n",
              "      <td>1050</td>\n",
              "      <td>Cutty Sark Prohibition, 50%</td>\n",
              "      <td>Blended Scotch Whisky</td>\n",
              "      <td>89</td>\n",
              "      <td>30.0</td>\n",
              "      <td>$</td>\n",
              "      <td>This expression replaces the previous 17 year ...</td>\n",
              "    </tr>\n",
              "    <tr>\n",
              "      <th>1114</th>\n",
              "      <td>1115</td>\n",
              "      <td>Benromach 10 year old, 43%</td>\n",
              "      <td>Single Malt Scotch</td>\n",
              "      <td>88</td>\n",
              "      <td>50.0</td>\n",
              "      <td>$</td>\n",
              "      <td>Lively on the nose for its age (and on the pal...</td>\n",
              "    </tr>\n",
              "    <tr>\n",
              "      <th>1120</th>\n",
              "      <td>1121</td>\n",
              "      <td>Springbank 18 year old, 46%</td>\n",
              "      <td>Single Malt Scotch</td>\n",
              "      <td>88</td>\n",
              "      <td>160.0</td>\n",
              "      <td>$</td>\n",
              "      <td>An elder Lagavulin. Thirty years of oak aging ...</td>\n",
              "    </tr>\n",
              "    <tr>\n",
              "      <th>1192</th>\n",
              "      <td>1193</td>\n",
              "      <td>Compass Box Great King Street Glasgow Blend, 43%</td>\n",
              "      <td>Blended Scotch Whisky</td>\n",
              "      <td>88</td>\n",
              "      <td>45.0</td>\n",
              "      <td>$</td>\n",
              "      <td>Just 279 bottles of this 22 year old single ca...</td>\n",
              "    </tr>\n",
              "    <tr>\n",
              "      <th>1487</th>\n",
              "      <td>1488</td>\n",
              "      <td>Glenrothes Vintage Reserve, 40%</td>\n",
              "      <td>Single Malt Scotch</td>\n",
              "      <td>87</td>\n",
              "      <td>60.0</td>\n",
              "      <td>$</td>\n",
              "      <td>Startlingly herbal. Penetrating, lifted, and a...</td>\n",
              "    </tr>\n",
              "    <tr>\n",
              "      <th>1495</th>\n",
              "      <td>1496</td>\n",
              "      <td>Glen Scotia Victoriana, 51.5%</td>\n",
              "      <td>Single Malt Scotch</td>\n",
              "      <td>87</td>\n",
              "      <td>115.0</td>\n",
              "      <td>$</td>\n",
              "      <td>This single cask 17 year old expression of Ben...</td>\n",
              "    </tr>\n",
              "    <tr>\n",
              "      <th>1504</th>\n",
              "      <td>1505</td>\n",
              "      <td>Benromach 15 year old, 43%</td>\n",
              "      <td>Single Malt Scotch</td>\n",
              "      <td>87</td>\n",
              "      <td>100.0</td>\n",
              "      <td>$</td>\n",
              "      <td>Last year’s was a top-notch, defiantly sherrie...</td>\n",
              "    </tr>\n",
              "    <tr>\n",
              "      <th>1632</th>\n",
              "      <td>1633</td>\n",
              "      <td>Springbank 15 year old, 46%</td>\n",
              "      <td>Single Malt Scotch</td>\n",
              "      <td>86</td>\n",
              "      <td>115.0</td>\n",
              "      <td>$</td>\n",
              "      <td>The latest While We Wait bottling comprises a ...</td>\n",
              "    </tr>\n",
              "    <tr>\n",
              "      <th>1635</th>\n",
              "      <td>1636</td>\n",
              "      <td>Tomintoul 16 year old, 40%</td>\n",
              "      <td>Single Malt Scotch</td>\n",
              "      <td>86</td>\n",
              "      <td>40.0</td>\n",
              "      <td>$</td>\n",
              "      <td>One of anCnoc’s peated expressions, Rascan’s b...</td>\n",
              "    </tr>\n",
              "    <tr>\n",
              "      <th>1742</th>\n",
              "      <td>1743</td>\n",
              "      <td>Aultmore 21 year old, 46%</td>\n",
              "      <td>Single Malt Scotch</td>\n",
              "      <td>86</td>\n",
              "      <td>199.0</td>\n",
              "      <td>$</td>\n",
              "      <td>One of the first releases from the recently fo...</td>\n",
              "    </tr>\n",
              "    <tr>\n",
              "      <th>1768</th>\n",
              "      <td>1769</td>\n",
              "      <td>Glen Scotia 15 year old, 46%</td>\n",
              "      <td>Single Malt Scotch</td>\n",
              "      <td>86</td>\n",
              "      <td>85.0</td>\n",
              "      <td>$</td>\n",
              "      <td>This is the first expression from Glen Garioch...</td>\n",
              "    </tr>\n",
              "    <tr>\n",
              "      <th>1920</th>\n",
              "      <td>1921</td>\n",
              "      <td>Wemyss Malts (distilled at Clynelish) “A Day a...</td>\n",
              "      <td>Single Malt Scotch</td>\n",
              "      <td>85</td>\n",
              "      <td>95.0</td>\n",
              "      <td>$</td>\n",
              "      <td>The newest release in Balvenie’s limited editi...</td>\n",
              "    </tr>\n",
              "    <tr>\n",
              "      <th>1939</th>\n",
              "      <td>1940</td>\n",
              "      <td>Glen Garioch Virgin Oak, 48%</td>\n",
              "      <td>Single Malt Scotch</td>\n",
              "      <td>85</td>\n",
              "      <td>120.0</td>\n",
              "      <td>$</td>\n",
              "      <td>An attempt to replicate the spirit produced at...</td>\n",
              "    </tr>\n",
              "    <tr>\n",
              "      <th>1998</th>\n",
              "      <td>1999</td>\n",
              "      <td>Glen Garioch 1797 Founder’s Reserve, 48%</td>\n",
              "      <td>Single Malt Scotch</td>\n",
              "      <td>85</td>\n",
              "      <td>46.0</td>\n",
              "      <td>$</td>\n",
              "      <td>The nose opens with savory notes. Richer, more...</td>\n",
              "    </tr>\n",
              "    <tr>\n",
              "      <th>2031</th>\n",
              "      <td>2032</td>\n",
              "      <td>Highland Queen Majesty 15 year old, 46%</td>\n",
              "      <td>Single Malt Scotch</td>\n",
              "      <td>85</td>\n",
              "      <td>50.0</td>\n",
              "      <td>$</td>\n",
              "      <td>Here, the distillery character is more restrai...</td>\n",
              "    </tr>\n",
              "    <tr>\n",
              "      <th>2062</th>\n",
              "      <td>2063</td>\n",
              "      <td>Springbank 10 year old, 46%</td>\n",
              "      <td>Single Malt Scotch</td>\n",
              "      <td>84</td>\n",
              "      <td>68.0</td>\n",
              "      <td>$</td>\n",
              "      <td>The black-labeled Carbon relates to heavily ch...</td>\n",
              "    </tr>\n",
              "    <tr>\n",
              "      <th>2078</th>\n",
              "      <td>2079</td>\n",
              "      <td>Auchentoshan 12 year old, 40%</td>\n",
              "      <td>Single Malt Scotch</td>\n",
              "      <td>84</td>\n",
              "      <td>48.0</td>\n",
              "      <td>$</td>\n",
              "      <td>Finished in a pedro ximinez cask. This is the ...</td>\n",
              "    </tr>\n",
              "    <tr>\n",
              "      <th>2088</th>\n",
              "      <td>2089</td>\n",
              "      <td>Tomintoul 14 year old, 46%</td>\n",
              "      <td>Single Malt Scotch</td>\n",
              "      <td>84</td>\n",
              "      <td>54.0</td>\n",
              "      <td>$</td>\n",
              "      <td>What is it with all these older, sherried bott...</td>\n",
              "    </tr>\n",
              "    <tr>\n",
              "      <th>2092</th>\n",
              "      <td>2093</td>\n",
              "      <td>Tomatin 30 year old, 46%</td>\n",
              "      <td>Single Malt Scotch</td>\n",
              "      <td>84</td>\n",
              "      <td>220.0</td>\n",
              "      <td>$</td>\n",
              "      <td>Thick and very tactile. Malty, with good heft....</td>\n",
              "    </tr>\n",
              "    <tr>\n",
              "      <th>2099</th>\n",
              "      <td>2100</td>\n",
              "      <td>Balblair 1989, 43%</td>\n",
              "      <td>Single Malt Scotch</td>\n",
              "      <td>84</td>\n",
              "      <td>94.0</td>\n",
              "      <td>$</td>\n",
              "      <td>Thick barley and viscous, with ever-present br...</td>\n",
              "    </tr>\n",
              "    <tr>\n",
              "      <th>2166</th>\n",
              "      <td>2167</td>\n",
              "      <td>Glen Scotia Double Cask, 46%</td>\n",
              "      <td>Single Malt Scotch</td>\n",
              "      <td>84</td>\n",
              "      <td>58.0</td>\n",
              "      <td>$</td>\n",
              "      <td>In style, this is closest to the 1978 in its l...</td>\n",
              "    </tr>\n",
              "  </tbody>\n",
              "</table>\n",
              "</div>"
            ],
            "text/plain": [
              "        id  ...                                description.1.2247.\n",
              "108    109  ...  \\r\\n\\r\\nLet this whisky glide into your glass ...\n",
              "192    193  ...  Aged in a European oak oloroso sherry hogshead...\n",
              "199    200  ...  Initially matured in bourbon barrels, then tra...\n",
              "202    203  ...  The nose offers canned peach halves in syrup, ...\n",
              "215    216  ...  This presents a mellow bouquet of rich dried f...\n",
              "217    218  ...  The yin to Aberlour A’bunadh’s yang, this cask...\n",
              "231    232  ...  An exceptional blend from first-fill American ...\n",
              "232    233  ...  Perfumed on the nose, with fresh-cut flowers, ...\n",
              "315    316  ...  It rarely gets better than this. Vanilla, almo...\n",
              "324    325  ...  This 42 year old expression was matured in a s...\n",
              "354    355  ...  Sun-bleached driftwood, iodine, curry spices, ...\n",
              "359    360  ...  Slightly oily on the nose, with old leather, g...\n",
              "376    377  ...  This Quinta Ruban succeeds the 12 year old ver...\n",
              "391    392  ...  On the nose, intense fruit underlaid with smok...\n",
              "393    394  ...  The nose is thick with bakeshop aromas: sponge...\n",
              "409    410  ...  This first cask-strength expression in Highlan...\n",
              "510    511  ...  This 23 year old expression was released for t...\n",
              "525    526  ...  This is one of four new additions to the portf...\n",
              "526    527  ...  Complex, elegant textures from the get-go; woo...\n",
              "527    528  ...  Fresh morning blooms in the flower shop, soft ...\n",
              "535    536  ...  This represents House Greyjoy and features its...\n",
              "541    542  ...  Six different cask finishes were used for this...\n",
              "553    554  ...  The first 15 year old release from Talisker, t...\n",
              "615    616  ...  This is not a single-cask bottling like other ...\n",
              "696    697  ...  Deep amber. Big, resinous, and almost heathery...\n",
              "715    716  ...  Having replaced the 16 year old Longmorn with ...\n",
              "717    718  ...  This limited release was aged in seven cask ty...\n",
              "728    729  ...  Part of anCnoc’s Peaty Collection, Cutter has ...\n",
              "774    775  ...  An array of flowers and fruits tumbles from th...\n",
              "788    789  ...  This is the oldest regular bottling from Glenm...\n",
              "809    810  ...  Toiteach A Dhà means ‘smoky two’ in Gaelic and...\n",
              "813    814  ...  GlenDronach is known for its unpeated sherry-m...\n",
              "845    846  ...  Amber with orange and ruby hues. Aromas of Isl...\n",
              "853    854  ...  Mahogany color. Full-bodied, thick and chewy. ...\n",
              "882    883  ...  Part of the “Rarest of the Rare” collection. M...\n",
              "894    895  ...  Soft and gentle (for Caol Ila, that is), thank...\n",
              "1049  1050  ...  This expression replaces the previous 17 year ...\n",
              "1114  1115  ...  Lively on the nose for its age (and on the pal...\n",
              "1120  1121  ...  An elder Lagavulin. Thirty years of oak aging ...\n",
              "1192  1193  ...  Just 279 bottles of this 22 year old single ca...\n",
              "1487  1488  ...  Startlingly herbal. Penetrating, lifted, and a...\n",
              "1495  1496  ...  This single cask 17 year old expression of Ben...\n",
              "1504  1505  ...  Last year’s was a top-notch, defiantly sherrie...\n",
              "1632  1633  ...  The latest While We Wait bottling comprises a ...\n",
              "1635  1636  ...  One of anCnoc’s peated expressions, Rascan’s b...\n",
              "1742  1743  ...  One of the first releases from the recently fo...\n",
              "1768  1769  ...  This is the first expression from Glen Garioch...\n",
              "1920  1921  ...  The newest release in Balvenie’s limited editi...\n",
              "1939  1940  ...  An attempt to replicate the spirit produced at...\n",
              "1998  1999  ...  The nose opens with savory notes. Richer, more...\n",
              "2031  2032  ...  Here, the distillery character is more restrai...\n",
              "2062  2063  ...  The black-labeled Carbon relates to heavily ch...\n",
              "2078  2079  ...  Finished in a pedro ximinez cask. This is the ...\n",
              "2088  2089  ...  What is it with all these older, sherried bott...\n",
              "2092  2093  ...  Thick and very tactile. Malty, with good heft....\n",
              "2099  2100  ...  Thick barley and viscous, with ever-present br...\n",
              "2166  2167  ...  In style, this is closest to the 1978 in its l...\n",
              "\n",
              "[57 rows x 7 columns]"
            ]
          },
          "metadata": {},
          "execution_count": 13
        }
      ]
    },
    {
      "cell_type": "code",
      "metadata": {
        "colab": {
          "base_uri": "https://localhost:8080/"
        },
        "id": "UhFJhtm6gxLD",
        "outputId": "98bfd5fd-5417-4e06-80be-9d025db8158d"
      },
      "source": [
        "# check for duplicate name\n",
        "scotch_dataset['name'].duplicated().sum()"
      ],
      "execution_count": 14,
      "outputs": [
        {
          "output_type": "execute_result",
          "data": {
            "text/plain": [
              "57"
            ]
          },
          "metadata": {},
          "execution_count": 14
        }
      ]
    },
    {
      "cell_type": "code",
      "metadata": {
        "id": "DL8usmoDiiiN"
      },
      "source": [
        "# Merge duplicate name with joing the review and taking mean for other columns.\n",
        "scotch_dataset['review.point'] = scotch_dataset.groupby('name')['review.point'].transform('mean')\n",
        "scotch_dataset['price'] = scotch_dataset.groupby('name')['price'].transform('mean')\n",
        "scotch_dataset['description.1.2247.'] = scotch_dataset.groupby('name')['description.1.2247.'].transform(lambda x: ','.join(x))"
      ],
      "execution_count": 15,
      "outputs": []
    },
    {
      "cell_type": "code",
      "metadata": {
        "id": "7gIUSmI5mTSl"
      },
      "source": [
        "# Drop the duplicate columns (keep the first each time)\n",
        "scotch_dataset.drop_duplicates(subset=['name'], keep='first', inplace=True)"
      ],
      "execution_count": 16,
      "outputs": []
    },
    {
      "cell_type": "code",
      "metadata": {
        "id": "KlUXtnPOm7dZ"
      },
      "source": [
        "# Extract new features\n",
        "scotch_dataset['alcohol'] = scotch_dataset['name'].str.extract(r\"([\\(\\,\\,\\'\\\"\\’\\”\\$] ? ?\\d+(\\.\\d+)?%)\")[0]\n",
        "scotch_dataset['alcohol'] = scotch_dataset['alcohol'].str.replace(\"[^\\d\\.]\", \"\").astype(float)"
      ],
      "execution_count": 17,
      "outputs": []
    },
    {
      "cell_type": "code",
      "metadata": {
        "colab": {
          "base_uri": "https://localhost:8080/"
        },
        "id": "h0zQ8L1iqTnU",
        "outputId": "bc63317d-653d-4972-8ead-785246d469c6"
      },
      "source": [
        "scotch_dataset['alcohol']"
      ],
      "execution_count": 18,
      "outputs": [
        {
          "output_type": "execute_result",
          "data": {
            "text/plain": [
              "0       40.5\n",
              "1       42.9\n",
              "2       40.0\n",
              "3       50.8\n",
              "4       45.4\n",
              "        ... \n",
              "2242    46.0\n",
              "2243     NaN\n",
              "2244    50.0\n",
              "2245    40.0\n",
              "2246    55.3\n",
              "Name: alcohol, Length: 2151, dtype: float64"
            ]
          },
          "metadata": {},
          "execution_count": 18
        }
      ]
    },
    {
      "cell_type": "code",
      "metadata": {
        "id": "ryKZgqyBnLpr"
      },
      "source": [
        "scotch_dataset['alcohol'] = scotch_dataset['alcohol'].fillna(scotch_dataset['alcohol'].mean())"
      ],
      "execution_count": 19,
      "outputs": []
    },
    {
      "cell_type": "code",
      "metadata": {
        "colab": {
          "base_uri": "https://localhost:8080/"
        },
        "id": "Ef_f84vxpzpO",
        "outputId": "e976eb2f-9182-4f03-f52f-d8b4ce328762"
      },
      "source": [
        "scotch_dataset.isna().sum()"
      ],
      "execution_count": 20,
      "outputs": [
        {
          "output_type": "execute_result",
          "data": {
            "text/plain": [
              "id                     0\n",
              "name                   0\n",
              "category               0\n",
              "review.point           0\n",
              "price                  0\n",
              "currency               0\n",
              "description.1.2247.    0\n",
              "alcohol                0\n",
              "dtype: int64"
            ]
          },
          "metadata": {},
          "execution_count": 20
        }
      ]
    },
    {
      "cell_type": "code",
      "metadata": {
        "id": "cHs05SiQrdij"
      },
      "source": [
        "# drop redundant columns\n",
        "scotch_dataset.drop(columns=['currency', 'id'], inplace=True)"
      ],
      "execution_count": 21,
      "outputs": []
    },
    {
      "cell_type": "code",
      "metadata": {
        "id": "6FrrqozurTXj"
      },
      "source": [
        "scotch_dataset = scotch_dataset.rename(columns={'description.1.2247.': 'review_description'})"
      ],
      "execution_count": 22,
      "outputs": []
    },
    {
      "cell_type": "code",
      "metadata": {
        "id": "k_wszCeAryGF"
      },
      "source": [
        "df = scotch_dataset.copy()"
      ],
      "execution_count": 23,
      "outputs": []
    },
    {
      "cell_type": "code",
      "metadata": {
        "colab": {
          "base_uri": "https://localhost:8080/",
          "height": 143
        },
        "id": "bXAeggFjr6Il",
        "outputId": "9dbe11ba-3755-40f1-c786-f84b6558e184"
      },
      "source": [
        "df.sample(3)"
      ],
      "execution_count": 24,
      "outputs": [
        {
          "output_type": "execute_result",
          "data": {
            "text/html": [
              "<div>\n",
              "<style scoped>\n",
              "    .dataframe tbody tr th:only-of-type {\n",
              "        vertical-align: middle;\n",
              "    }\n",
              "\n",
              "    .dataframe tbody tr th {\n",
              "        vertical-align: top;\n",
              "    }\n",
              "\n",
              "    .dataframe thead th {\n",
              "        text-align: right;\n",
              "    }\n",
              "</style>\n",
              "<table border=\"1\" class=\"dataframe\">\n",
              "  <thead>\n",
              "    <tr style=\"text-align: right;\">\n",
              "      <th></th>\n",
              "      <th>name</th>\n",
              "      <th>category</th>\n",
              "      <th>review.point</th>\n",
              "      <th>price</th>\n",
              "      <th>review_description</th>\n",
              "      <th>alcohol</th>\n",
              "    </tr>\n",
              "  </thead>\n",
              "  <tbody>\n",
              "    <tr>\n",
              "      <th>81</th>\n",
              "      <td>Compass Box Phenomenology, 46%</td>\n",
              "      <td>Blended Scotch Whisky</td>\n",
              "      <td>94.0</td>\n",
              "      <td>180.0</td>\n",
              "      <td>The first bottling of Astar was released in 20...</td>\n",
              "      <td>46.0</td>\n",
              "    </tr>\n",
              "    <tr>\n",
              "      <th>2022</th>\n",
              "      <td>Dewar’s White Label, 40%</td>\n",
              "      <td>Blended Scotch Whisky</td>\n",
              "      <td>85.0</td>\n",
              "      <td>25.0</td>\n",
              "      <td>Good to see Pittyvaich back in the Special Rel...</td>\n",
              "      <td>40.0</td>\n",
              "    </tr>\n",
              "    <tr>\n",
              "      <th>1853</th>\n",
              "      <td>The Glenrothes, 1992 Vintage, 43% ABV</td>\n",
              "      <td>Single Malt Scotch</td>\n",
              "      <td>85.0</td>\n",
              "      <td>55.0</td>\n",
              "      <td>Lemon meringue pie, flaked almonds, cereal bar...</td>\n",
              "      <td>43.0</td>\n",
              "    </tr>\n",
              "  </tbody>\n",
              "</table>\n",
              "</div>"
            ],
            "text/plain": [
              "                                       name  ... alcohol\n",
              "81           Compass Box Phenomenology, 46%  ...    46.0\n",
              "2022               Dewar’s White Label, 40%  ...    40.0\n",
              "1853  The Glenrothes, 1992 Vintage, 43% ABV  ...    43.0\n",
              "\n",
              "[3 rows x 6 columns]"
            ]
          },
          "metadata": {},
          "execution_count": 24
        }
      ]
    },
    {
      "cell_type": "markdown",
      "metadata": {
        "id": "rJwHcTM7sA7E"
      },
      "source": [
        "## EDA"
      ]
    },
    {
      "cell_type": "code",
      "metadata": {
        "id": "LJ7zlYxOsB10"
      },
      "source": [
        ""
      ],
      "execution_count": null,
      "outputs": []
    }
  ]
}