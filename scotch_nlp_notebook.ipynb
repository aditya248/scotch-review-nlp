{
  "nbformat": 4,
  "nbformat_minor": 0,
  "metadata": {
    "interpreter": {
      "hash": "b3ba2566441a7c06988d0923437866b63cedc61552a5af99d1f4fb67d367b25f"
    },
    "kernelspec": {
      "display_name": "Python 3.8.5 64-bit ('base': conda)",
      "language": "python",
      "name": "python3"
    },
    "language_info": {
      "codemirror_mode": {
        "name": "ipython",
        "version": 3
      },
      "file_extension": ".py",
      "mimetype": "text/x-python",
      "name": "python",
      "nbconvert_exporter": "python",
      "pygments_lexer": "ipython3",
      "version": "3.8.12"
    },
    "orig_nbformat": 4,
    "colab": {
      "name": "scotch-nlp-notebook.ipynb",
      "provenance": [],
      "collapsed_sections": [],
      "include_colab_link": true
    },
    "widgets": {
      "application/vnd.jupyter.widget-state+json": {
        "d00f3ba6e0d44389803e0e34b7abf3a2": {
          "model_module": "@jupyter-widgets/controls",
          "model_name": "HBoxModel",
          "model_module_version": "1.5.0",
          "state": {
            "_view_name": "HBoxView",
            "_dom_classes": [],
            "_model_name": "HBoxModel",
            "_view_module": "@jupyter-widgets/controls",
            "_model_module_version": "1.5.0",
            "_view_count": null,
            "_view_module_version": "1.5.0",
            "box_style": "",
            "layout": "IPY_MODEL_e08c8a9c60a64bb2a41de7c7f399161a",
            "_model_module": "@jupyter-widgets/controls",
            "children": [
              "IPY_MODEL_364cc562c39f4a1ea793e82d620c4ca4",
              "IPY_MODEL_4ce3609048b44ba6b5b8dbed09f44d99",
              "IPY_MODEL_3c756890ef5744dfb51757024d7acbc4"
            ]
          }
        },
        "e08c8a9c60a64bb2a41de7c7f399161a": {
          "model_module": "@jupyter-widgets/base",
          "model_name": "LayoutModel",
          "model_module_version": "1.2.0",
          "state": {
            "_view_name": "LayoutView",
            "grid_template_rows": null,
            "right": null,
            "justify_content": null,
            "_view_module": "@jupyter-widgets/base",
            "overflow": null,
            "_model_module_version": "1.2.0",
            "_view_count": null,
            "flex_flow": "row wrap",
            "width": "100%",
            "min_width": null,
            "border": null,
            "align_items": null,
            "bottom": null,
            "_model_module": "@jupyter-widgets/base",
            "top": null,
            "grid_column": null,
            "overflow_y": null,
            "overflow_x": null,
            "grid_auto_flow": null,
            "grid_area": null,
            "grid_template_columns": null,
            "flex": null,
            "_model_name": "LayoutModel",
            "justify_items": null,
            "grid_row": null,
            "max_height": null,
            "align_content": null,
            "visibility": null,
            "align_self": null,
            "height": null,
            "min_height": null,
            "padding": null,
            "grid_auto_rows": null,
            "grid_gap": null,
            "max_width": null,
            "order": null,
            "_view_module_version": "1.2.0",
            "grid_template_areas": null,
            "object_position": null,
            "object_fit": null,
            "grid_auto_columns": null,
            "margin": null,
            "display": "inline-flex",
            "left": null
          }
        },
        "364cc562c39f4a1ea793e82d620c4ca4": {
          "model_module": "@jupyter-widgets/controls",
          "model_name": "HTMLModel",
          "model_module_version": "1.5.0",
          "state": {
            "_view_name": "HTMLView",
            "style": "IPY_MODEL_234d7fcd33f44f92aab0e6e24d7fcbe3",
            "_dom_classes": [],
            "description": "",
            "_model_name": "HTMLModel",
            "placeholder": "​",
            "_view_module": "@jupyter-widgets/controls",
            "_model_module_version": "1.5.0",
            "value": "Done! Use &#x27;show&#x27; commands to display/save.   ",
            "_view_count": null,
            "_view_module_version": "1.5.0",
            "description_tooltip": null,
            "_model_module": "@jupyter-widgets/controls",
            "layout": "IPY_MODEL_1ed32d73e8da4e0d94fe8e0616f76ecf"
          }
        },
        "4ce3609048b44ba6b5b8dbed09f44d99": {
          "model_module": "@jupyter-widgets/controls",
          "model_name": "FloatProgressModel",
          "model_module_version": "1.5.0",
          "state": {
            "_view_name": "ProgressView",
            "style": "IPY_MODEL_db80ab539a7147649469c22fc2f3c2cf",
            "_dom_classes": [],
            "description": "",
            "_model_name": "FloatProgressModel",
            "bar_style": "success",
            "max": 1,
            "_view_module": "@jupyter-widgets/controls",
            "_model_module_version": "1.5.0",
            "value": 1,
            "_view_count": null,
            "_view_module_version": "1.5.0",
            "orientation": "horizontal",
            "min": 0,
            "description_tooltip": null,
            "_model_module": "@jupyter-widgets/controls",
            "layout": "IPY_MODEL_69274bfeb2304b69813d26ee91660e03"
          }
        },
        "3c756890ef5744dfb51757024d7acbc4": {
          "model_module": "@jupyter-widgets/controls",
          "model_name": "HTMLModel",
          "model_module_version": "1.5.0",
          "state": {
            "_view_name": "HTMLView",
            "style": "IPY_MODEL_6fc626530ff9433b93796c86f93602b0",
            "_dom_classes": [],
            "description": "",
            "_model_name": "HTMLModel",
            "placeholder": "​",
            "_view_module": "@jupyter-widgets/controls",
            "_model_module_version": "1.5.0",
            "value": " [100%]   00:00 -&gt; (00:00 left)",
            "_view_count": null,
            "_view_module_version": "1.5.0",
            "description_tooltip": null,
            "_model_module": "@jupyter-widgets/controls",
            "layout": "IPY_MODEL_77b457e2620c465c87db6444644a86fa"
          }
        },
        "234d7fcd33f44f92aab0e6e24d7fcbe3": {
          "model_module": "@jupyter-widgets/controls",
          "model_name": "DescriptionStyleModel",
          "model_module_version": "1.5.0",
          "state": {
            "_view_name": "StyleView",
            "_model_name": "DescriptionStyleModel",
            "description_width": "",
            "_view_module": "@jupyter-widgets/base",
            "_model_module_version": "1.5.0",
            "_view_count": null,
            "_view_module_version": "1.2.0",
            "_model_module": "@jupyter-widgets/controls"
          }
        },
        "1ed32d73e8da4e0d94fe8e0616f76ecf": {
          "model_module": "@jupyter-widgets/base",
          "model_name": "LayoutModel",
          "model_module_version": "1.2.0",
          "state": {
            "_view_name": "LayoutView",
            "grid_template_rows": null,
            "right": null,
            "justify_content": null,
            "_view_module": "@jupyter-widgets/base",
            "overflow": null,
            "_model_module_version": "1.2.0",
            "_view_count": null,
            "flex_flow": null,
            "width": null,
            "min_width": null,
            "border": null,
            "align_items": null,
            "bottom": null,
            "_model_module": "@jupyter-widgets/base",
            "top": null,
            "grid_column": null,
            "overflow_y": null,
            "overflow_x": null,
            "grid_auto_flow": null,
            "grid_area": null,
            "grid_template_columns": null,
            "flex": null,
            "_model_name": "LayoutModel",
            "justify_items": null,
            "grid_row": null,
            "max_height": null,
            "align_content": null,
            "visibility": null,
            "align_self": null,
            "height": null,
            "min_height": null,
            "padding": null,
            "grid_auto_rows": null,
            "grid_gap": null,
            "max_width": null,
            "order": null,
            "_view_module_version": "1.2.0",
            "grid_template_areas": null,
            "object_position": null,
            "object_fit": null,
            "grid_auto_columns": null,
            "margin": null,
            "display": null,
            "left": null
          }
        },
        "db80ab539a7147649469c22fc2f3c2cf": {
          "model_module": "@jupyter-widgets/controls",
          "model_name": "ProgressStyleModel",
          "model_module_version": "1.5.0",
          "state": {
            "_view_name": "StyleView",
            "_model_name": "ProgressStyleModel",
            "description_width": "",
            "_view_module": "@jupyter-widgets/base",
            "_model_module_version": "1.5.0",
            "_view_count": null,
            "_view_module_version": "1.2.0",
            "bar_color": null,
            "_model_module": "@jupyter-widgets/controls"
          }
        },
        "69274bfeb2304b69813d26ee91660e03": {
          "model_module": "@jupyter-widgets/base",
          "model_name": "LayoutModel",
          "model_module_version": "1.2.0",
          "state": {
            "_view_name": "LayoutView",
            "grid_template_rows": null,
            "right": null,
            "justify_content": null,
            "_view_module": "@jupyter-widgets/base",
            "overflow": null,
            "_model_module_version": "1.2.0",
            "_view_count": null,
            "flex_flow": null,
            "width": null,
            "min_width": null,
            "border": null,
            "align_items": null,
            "bottom": null,
            "_model_module": "@jupyter-widgets/base",
            "top": null,
            "grid_column": null,
            "overflow_y": null,
            "overflow_x": null,
            "grid_auto_flow": null,
            "grid_area": null,
            "grid_template_columns": null,
            "flex": "2",
            "_model_name": "LayoutModel",
            "justify_items": null,
            "grid_row": null,
            "max_height": null,
            "align_content": null,
            "visibility": null,
            "align_self": null,
            "height": null,
            "min_height": null,
            "padding": null,
            "grid_auto_rows": null,
            "grid_gap": null,
            "max_width": null,
            "order": null,
            "_view_module_version": "1.2.0",
            "grid_template_areas": null,
            "object_position": null,
            "object_fit": null,
            "grid_auto_columns": null,
            "margin": null,
            "display": null,
            "left": null
          }
        },
        "6fc626530ff9433b93796c86f93602b0": {
          "model_module": "@jupyter-widgets/controls",
          "model_name": "DescriptionStyleModel",
          "model_module_version": "1.5.0",
          "state": {
            "_view_name": "StyleView",
            "_model_name": "DescriptionStyleModel",
            "description_width": "",
            "_view_module": "@jupyter-widgets/base",
            "_model_module_version": "1.5.0",
            "_view_count": null,
            "_view_module_version": "1.2.0",
            "_model_module": "@jupyter-widgets/controls"
          }
        },
        "77b457e2620c465c87db6444644a86fa": {
          "model_module": "@jupyter-widgets/base",
          "model_name": "LayoutModel",
          "model_module_version": "1.2.0",
          "state": {
            "_view_name": "LayoutView",
            "grid_template_rows": null,
            "right": null,
            "justify_content": null,
            "_view_module": "@jupyter-widgets/base",
            "overflow": null,
            "_model_module_version": "1.2.0",
            "_view_count": null,
            "flex_flow": null,
            "width": null,
            "min_width": null,
            "border": null,
            "align_items": null,
            "bottom": null,
            "_model_module": "@jupyter-widgets/base",
            "top": null,
            "grid_column": null,
            "overflow_y": null,
            "overflow_x": null,
            "grid_auto_flow": null,
            "grid_area": null,
            "grid_template_columns": null,
            "flex": null,
            "_model_name": "LayoutModel",
            "justify_items": null,
            "grid_row": null,
            "max_height": null,
            "align_content": null,
            "visibility": null,
            "align_self": null,
            "height": null,
            "min_height": null,
            "padding": null,
            "grid_auto_rows": null,
            "grid_gap": null,
            "max_width": null,
            "order": null,
            "_view_module_version": "1.2.0",
            "grid_template_areas": null,
            "object_position": null,
            "object_fit": null,
            "grid_auto_columns": null,
            "margin": null,
            "display": null,
            "left": null
          }
        }
      }
    }
  },
  "cells": [
    {
      "cell_type": "markdown",
      "metadata": {
        "id": "view-in-github",
        "colab_type": "text"
      },
      "source": [
        "<a href=\"https://colab.research.google.com/github/aditya248/scotch-review-nlp/blob/main/scotch_nlp_notebook.ipynb\" target=\"_parent\"><img src=\"https://colab.research.google.com/assets/colab-badge.svg\" alt=\"Open In Colab\"/></a>"
      ]
    },
    {
      "cell_type": "markdown",
      "metadata": {
        "id": "ur0Ozed09P3W"
      },
      "source": [
        "# Setup"
      ]
    },
    {
      "cell_type": "code",
      "metadata": {
        "id": "Z-vkPj5fcsj1"
      },
      "source": [
        "# imports\n",
        "import pandas as pd\n",
        "import seaborn as sns\n",
        "import numpy as np\n",
        "import matplotlib.pyplot as plt"
      ],
      "execution_count": null,
      "outputs": []
    },
    {
      "cell_type": "code",
      "metadata": {
        "id": "8ipI7Juocsj6",
        "colab": {
          "base_uri": "https://localhost:8080/",
          "height": 142
        },
        "outputId": "b9f90429-5884-494b-866b-8d9f14404c5a"
      },
      "source": [
        "# reading dataset into the environment\n",
        "scotch_dataset = pd.read_csv(\"https://raw.githubusercontent.com/aditya248/scotch-review-nlp/main/scotch_review2020.csv\")\n",
        "scotch_dataset.sample(3)"
      ],
      "execution_count": null,
      "outputs": [
        {
          "output_type": "execute_result",
          "data": {
            "text/html": [
              "<div>\n",
              "<style scoped>\n",
              "    .dataframe tbody tr th:only-of-type {\n",
              "        vertical-align: middle;\n",
              "    }\n",
              "\n",
              "    .dataframe tbody tr th {\n",
              "        vertical-align: top;\n",
              "    }\n",
              "\n",
              "    .dataframe thead th {\n",
              "        text-align: right;\n",
              "    }\n",
              "</style>\n",
              "<table border=\"1\" class=\"dataframe\">\n",
              "  <thead>\n",
              "    <tr style=\"text-align: right;\">\n",
              "      <th></th>\n",
              "      <th>id</th>\n",
              "      <th>name</th>\n",
              "      <th>category</th>\n",
              "      <th>review.point</th>\n",
              "      <th>price</th>\n",
              "      <th>currency</th>\n",
              "      <th>description.1.2247.</th>\n",
              "    </tr>\n",
              "  </thead>\n",
              "  <tbody>\n",
              "    <tr>\n",
              "      <th>967</th>\n",
              "      <td>968</td>\n",
              "      <td>Arran 18 year old, 46%</td>\n",
              "      <td>Single Malt Scotch</td>\n",
              "      <td>89</td>\n",
              "      <td>100</td>\n",
              "      <td>$</td>\n",
              "      <td>Unusually named—it refers to the price paid fo...</td>\n",
              "    </tr>\n",
              "    <tr>\n",
              "      <th>626</th>\n",
              "      <td>627</td>\n",
              "      <td>Berry Bros. &amp; Rudd, distilled at Balmenach, 19...</td>\n",
              "      <td>Single Malt Scotch</td>\n",
              "      <td>90</td>\n",
              "      <td>232</td>\n",
              "      <td>$</td>\n",
              "      <td>If every fan of sherried whisky has a favorite...</td>\n",
              "    </tr>\n",
              "    <tr>\n",
              "      <th>578</th>\n",
              "      <td>579</td>\n",
              "      <td>Signatory (distilled at Brora), 24 year old, 1...</td>\n",
              "      <td>Single Malt Scotch</td>\n",
              "      <td>90</td>\n",
              "      <td>225</td>\n",
              "      <td>$</td>\n",
              "      <td>\\r\\n\\r\\nFruit and grain drive this solid sippe...</td>\n",
              "    </tr>\n",
              "  </tbody>\n",
              "</table>\n",
              "</div>"
            ],
            "text/plain": [
              "      id  ...                                description.1.2247.\n",
              "967  968  ...  Unusually named—it refers to the price paid fo...\n",
              "626  627  ...  If every fan of sherried whisky has a favorite...\n",
              "578  579  ...  \\r\\n\\r\\nFruit and grain drive this solid sippe...\n",
              "\n",
              "[3 rows x 7 columns]"
            ]
          },
          "metadata": {},
          "execution_count": 5
        }
      ]
    },
    {
      "cell_type": "markdown",
      "metadata": {
        "id": "QC17lbOQgA30"
      },
      "source": [
        "## Data Cleaning"
      ]
    },
    {
      "cell_type": "code",
      "metadata": {
        "colab": {
          "base_uri": "https://localhost:8080/"
        },
        "id": "fXMInnZShgfP",
        "outputId": "a3f902af-a05a-4d01-beb4-02b3dc0a300b"
      },
      "source": [
        "scotch_dataset.shape"
      ],
      "execution_count": null,
      "outputs": [
        {
          "output_type": "execute_result",
          "data": {
            "text/plain": [
              "(2247, 7)"
            ]
          },
          "metadata": {},
          "execution_count": 6
        }
      ]
    },
    {
      "cell_type": "code",
      "metadata": {
        "colab": {
          "base_uri": "https://localhost:8080/"
        },
        "id": "5xPHf26Bh72H",
        "outputId": "84d7e6d4-dd21-4eaa-f996-cbb61ffb35b7"
      },
      "source": [
        "scotch_dataset.columns"
      ],
      "execution_count": null,
      "outputs": [
        {
          "output_type": "execute_result",
          "data": {
            "text/plain": [
              "Index(['id', 'name', 'category', 'review.point', 'price', 'currency',\n",
              "       'description.1.2247.'],\n",
              "      dtype='object')"
            ]
          },
          "metadata": {},
          "execution_count": 7
        }
      ]
    },
    {
      "cell_type": "code",
      "metadata": {
        "colab": {
          "base_uri": "https://localhost:8080/"
        },
        "id": "Iyua1QnqkHia",
        "outputId": "dbbf533e-9104-4d85-9bfa-4d5f5da33840"
      },
      "source": [
        "# check column types\n",
        "scotch_dataset.dtypes"
      ],
      "execution_count": null,
      "outputs": [
        {
          "output_type": "execute_result",
          "data": {
            "text/plain": [
              "id                      int64\n",
              "name                   object\n",
              "category               object\n",
              "review.point            int64\n",
              "price                  object\n",
              "currency               object\n",
              "description.1.2247.    object\n",
              "dtype: object"
            ]
          },
          "metadata": {},
          "execution_count": 7
        }
      ]
    },
    {
      "cell_type": "code",
      "metadata": {
        "colab": {
          "base_uri": "https://localhost:8080/"
        },
        "id": "bP73Kt7clXVG",
        "outputId": "8a50f90e-83f5-4183-b4c4-2a48aca096b8"
      },
      "source": [
        "# Clean price column price and change type.\n",
        "pattern = r'[A-Za-z]'\n",
        "scotch_dataset[scotch_dataset['price'].str.contains(pattern)]['price']"
      ],
      "execution_count": null,
      "outputs": [
        {
          "output_type": "execute_result",
          "data": {
            "text/plain": [
              "33      15,000 or $60,000/set\n",
              "92                 150/375ml.\n",
              "94                  50/375ml.\n",
              "186                60,000/set\n",
              "359                 50/375ml.\n",
              "739                60,000/set\n",
              "778                100/375ml.\n",
              "1010                 44/liter\n",
              "1280               132/700ml.\n",
              "1548               60,000/set\n",
              "1814               60,000/set\n",
              "1825            39/1.75 liter\n",
              "2027                 35/liter\n",
              "2200            18/1.75 liter\n",
              "Name: price, dtype: object"
            ]
          },
          "metadata": {},
          "execution_count": 8
        }
      ]
    },
    {
      "cell_type": "code",
      "metadata": {
        "id": "TVkwwcVekbWN"
      },
      "source": [
        "scotch_dataset.iloc[33,4] = '15000'\n",
        "scotch_dataset['price'].replace(',', '', inplace = True, regex = True)\n",
        "scotch_dataset['price'] = scotch_dataset['price'].map(lambda x: x.split('/')[0])"
      ],
      "execution_count": null,
      "outputs": []
    },
    {
      "cell_type": "code",
      "metadata": {
        "id": "eUuhDR6HlCGY"
      },
      "source": [
        "scotch_dataset['price'] = scotch_dataset['price'].astype('float')"
      ],
      "execution_count": null,
      "outputs": []
    },
    {
      "cell_type": "code",
      "metadata": {
        "id": "Q7WyMCAz-e2C"
      },
      "source": [
        "###### price per point\n",
        "# scotch_dataset['price_per_point'] = scotch_dataset['price']/scotch_dataset['points']\n",
        "# scotch_dataset.head()"
      ],
      "execution_count": null,
      "outputs": []
    },
    {
      "cell_type": "code",
      "metadata": {
        "id": "0bRvd_zmmAuv"
      },
      "source": [
        "# Change type for \n",
        "scotch_dataset['review.point'] = scotch_dataset['review.point'].astype('int')"
      ],
      "execution_count": null,
      "outputs": []
    },
    {
      "cell_type": "code",
      "metadata": {
        "colab": {
          "base_uri": "https://localhost:8080/"
        },
        "id": "fTFwGdJ1gCUi",
        "outputId": "7585afc6-22d9-47a9-e723-b36cfe1efed1"
      },
      "source": [
        "# check for duplicates\n",
        "scotch_dataset.duplicated().sum()"
      ],
      "execution_count": null,
      "outputs": [
        {
          "output_type": "execute_result",
          "data": {
            "text/plain": [
              "0"
            ]
          },
          "metadata": {},
          "execution_count": 12
        }
      ]
    },
    {
      "cell_type": "code",
      "metadata": {
        "colab": {
          "base_uri": "https://localhost:8080/"
        },
        "id": "xuU6ajb2gVIJ",
        "outputId": "ac84ddb9-da9e-4045-abfc-4c6e984654f6"
      },
      "source": [
        "# check for null values\n",
        "scotch_dataset.isna().sum()"
      ],
      "execution_count": null,
      "outputs": [
        {
          "output_type": "execute_result",
          "data": {
            "text/plain": [
              "id                      0\n",
              "name                    0\n",
              "category                0\n",
              "review.point            0\n",
              "price                   0\n",
              "currency                0\n",
              "description.1.2247.    39\n",
              "dtype: int64"
            ]
          },
          "metadata": {},
          "execution_count": 13
        }
      ]
    },
    {
      "cell_type": "code",
      "metadata": {
        "colab": {
          "base_uri": "https://localhost:8080/"
        },
        "id": "60RNGhSfglKZ",
        "outputId": "16d41223-fea3-4060-e984-8fdbe2b49535"
      },
      "source": [
        "# drop 39 null or na values\n",
        "scotch_dataset.dropna(inplace=True)\n",
        "scotch_dataset.isna().sum()"
      ],
      "execution_count": null,
      "outputs": [
        {
          "output_type": "execute_result",
          "data": {
            "text/plain": [
              "id                     0\n",
              "name                   0\n",
              "category               0\n",
              "review.point           0\n",
              "price                  0\n",
              "currency               0\n",
              "description.1.2247.    0\n",
              "dtype: int64"
            ]
          },
          "metadata": {},
          "execution_count": 14
        }
      ]
    },
    {
      "cell_type": "code",
      "metadata": {
        "colab": {
          "base_uri": "https://localhost:8080/",
          "height": 1000
        },
        "id": "Ydmb6-90iu6V",
        "outputId": "6780731e-3866-4cfc-effd-098b432b2bc5"
      },
      "source": [
        "scotch_dataset[scotch_dataset['name'].duplicated() == True]"
      ],
      "execution_count": null,
      "outputs": [
        {
          "output_type": "execute_result",
          "data": {
            "text/html": [
              "<div>\n",
              "<style scoped>\n",
              "    .dataframe tbody tr th:only-of-type {\n",
              "        vertical-align: middle;\n",
              "    }\n",
              "\n",
              "    .dataframe tbody tr th {\n",
              "        vertical-align: top;\n",
              "    }\n",
              "\n",
              "    .dataframe thead th {\n",
              "        text-align: right;\n",
              "    }\n",
              "</style>\n",
              "<table border=\"1\" class=\"dataframe\">\n",
              "  <thead>\n",
              "    <tr style=\"text-align: right;\">\n",
              "      <th></th>\n",
              "      <th>id</th>\n",
              "      <th>name</th>\n",
              "      <th>category</th>\n",
              "      <th>review.point</th>\n",
              "      <th>price</th>\n",
              "      <th>currency</th>\n",
              "      <th>description.1.2247.</th>\n",
              "    </tr>\n",
              "  </thead>\n",
              "  <tbody>\n",
              "    <tr>\n",
              "      <th>108</th>\n",
              "      <td>109</td>\n",
              "      <td>Benriach The Smoky Twelve, 46%</td>\n",
              "      <td>Single Malt Scotch</td>\n",
              "      <td>94</td>\n",
              "      <td>65.0</td>\n",
              "      <td>$</td>\n",
              "      <td>\\r\\n\\r\\nLet this whisky glide into your glass ...</td>\n",
              "    </tr>\n",
              "    <tr>\n",
              "      <th>192</th>\n",
              "      <td>193</td>\n",
              "      <td>Laphroaig Triple Wood, 48%</td>\n",
              "      <td>Single Malt Scotch</td>\n",
              "      <td>93</td>\n",
              "      <td>70.0</td>\n",
              "      <td>$</td>\n",
              "      <td>Aged in a European oak oloroso sherry hogshead...</td>\n",
              "    </tr>\n",
              "    <tr>\n",
              "      <th>199</th>\n",
              "      <td>200</td>\n",
              "      <td>Laphroaig 10 year old Cask Strength (Batch 010...</td>\n",
              "      <td>Single Malt Scotch</td>\n",
              "      <td>93</td>\n",
              "      <td>70.0</td>\n",
              "      <td>$</td>\n",
              "      <td>Initially matured in bourbon barrels, then tra...</td>\n",
              "    </tr>\n",
              "    <tr>\n",
              "      <th>202</th>\n",
              "      <td>203</td>\n",
              "      <td>Compass Box Spice Tree Extravaganza, 46%</td>\n",
              "      <td>Blended Malt Scotch Whisky</td>\n",
              "      <td>93</td>\n",
              "      <td>140.0</td>\n",
              "      <td>$</td>\n",
              "      <td>The nose offers canned peach halves in syrup, ...</td>\n",
              "    </tr>\n",
              "    <tr>\n",
              "      <th>215</th>\n",
              "      <td>216</td>\n",
              "      <td>Glenlivet Enigma, 60.6%</td>\n",
              "      <td>Single Malt Scotch</td>\n",
              "      <td>93</td>\n",
              "      <td>149.0</td>\n",
              "      <td>$</td>\n",
              "      <td>This presents a mellow bouquet of rich dried f...</td>\n",
              "    </tr>\n",
              "    <tr>\n",
              "      <th>217</th>\n",
              "      <td>218</td>\n",
              "      <td>Aberlour A’bunadh Alba Cask Strength (Batch #0...</td>\n",
              "      <td>Single Malt Scotch</td>\n",
              "      <td>93</td>\n",
              "      <td>90.0</td>\n",
              "      <td>$</td>\n",
              "      <td>The yin to Aberlour A’bunadh’s yang, this cask...</td>\n",
              "    </tr>\n",
              "    <tr>\n",
              "      <th>231</th>\n",
              "      <td>232</td>\n",
              "      <td>Compass Box The Peat Monster, 46%</td>\n",
              "      <td>Blended Malt Scotch Whisky</td>\n",
              "      <td>93</td>\n",
              "      <td>65.0</td>\n",
              "      <td>$</td>\n",
              "      <td>An exceptional blend from first-fill American ...</td>\n",
              "    </tr>\n",
              "    <tr>\n",
              "      <th>232</th>\n",
              "      <td>233</td>\n",
              "      <td>Aberfeldy 18 year old French Red Wine Cask-Fin...</td>\n",
              "      <td>Single Malt Scotch</td>\n",
              "      <td>93</td>\n",
              "      <td>120.0</td>\n",
              "      <td>$</td>\n",
              "      <td>Perfumed on the nose, with fresh-cut flowers, ...</td>\n",
              "    </tr>\n",
              "    <tr>\n",
              "      <th>315</th>\n",
              "      <td>316</td>\n",
              "      <td>Tamdhu Batch Strength (#002), 58.5%</td>\n",
              "      <td>Single Malt Scotch</td>\n",
              "      <td>92</td>\n",
              "      <td>90.0</td>\n",
              "      <td>$</td>\n",
              "      <td>It rarely gets better than this. Vanilla, almo...</td>\n",
              "    </tr>\n",
              "    <tr>\n",
              "      <th>324</th>\n",
              "      <td>325</td>\n",
              "      <td>Longrow 18 year old, 46%</td>\n",
              "      <td>Single Malt Scotch</td>\n",
              "      <td>92</td>\n",
              "      <td>220.0</td>\n",
              "      <td>$</td>\n",
              "      <td>This 42 year old expression was matured in a s...</td>\n",
              "    </tr>\n",
              "    <tr>\n",
              "      <th>354</th>\n",
              "      <td>355</td>\n",
              "      <td>GlenDronach 15 year old Revival, 46%</td>\n",
              "      <td>Single Malt Scotch</td>\n",
              "      <td>92</td>\n",
              "      <td>90.0</td>\n",
              "      <td>$</td>\n",
              "      <td>Sun-bleached driftwood, iodine, curry spices, ...</td>\n",
              "    </tr>\n",
              "    <tr>\n",
              "      <th>359</th>\n",
              "      <td>360</td>\n",
              "      <td>Dewar’s 21 year old Double Double, 46%</td>\n",
              "      <td>Blended Scotch Whisky</td>\n",
              "      <td>92</td>\n",
              "      <td>50.0</td>\n",
              "      <td>$</td>\n",
              "      <td>Slightly oily on the nose, with old leather, g...</td>\n",
              "    </tr>\n",
              "    <tr>\n",
              "      <th>376</th>\n",
              "      <td>377</td>\n",
              "      <td>Laphroaig Càirdeas Cask Strength Triple Wood (...</td>\n",
              "      <td>Single Malt Scotch</td>\n",
              "      <td>92</td>\n",
              "      <td>80.0</td>\n",
              "      <td>$</td>\n",
              "      <td>This Quinta Ruban succeeds the 12 year old ver...</td>\n",
              "    </tr>\n",
              "    <tr>\n",
              "      <th>391</th>\n",
              "      <td>392</td>\n",
              "      <td>Ardbeg 5 year old Wee Beastie, 47.4%</td>\n",
              "      <td>Single Malt Scotch</td>\n",
              "      <td>92</td>\n",
              "      <td>47.0</td>\n",
              "      <td>$</td>\n",
              "      <td>On the nose, intense fruit underlaid with smok...</td>\n",
              "    </tr>\n",
              "    <tr>\n",
              "      <th>393</th>\n",
              "      <td>394</td>\n",
              "      <td>Compass Box The Peat Monster, 46%</td>\n",
              "      <td>Blended Malt Scotch Whisky</td>\n",
              "      <td>92</td>\n",
              "      <td>65.0</td>\n",
              "      <td>$</td>\n",
              "      <td>The nose is thick with bakeshop aromas: sponge...</td>\n",
              "    </tr>\n",
              "    <tr>\n",
              "      <th>409</th>\n",
              "      <td>410</td>\n",
              "      <td>Bowmore 18 year old, 43%</td>\n",
              "      <td>Single Malt Scotch</td>\n",
              "      <td>91</td>\n",
              "      <td>85.0</td>\n",
              "      <td>$</td>\n",
              "      <td>This first cask-strength expression in Highlan...</td>\n",
              "    </tr>\n",
              "    <tr>\n",
              "      <th>510</th>\n",
              "      <td>511</td>\n",
              "      <td>Laphroaig Quarter Cask, 48%</td>\n",
              "      <td>Single Malt Scotch</td>\n",
              "      <td>91</td>\n",
              "      <td>60.0</td>\n",
              "      <td>$</td>\n",
              "      <td>This 23 year old expression was released for t...</td>\n",
              "    </tr>\n",
              "    <tr>\n",
              "      <th>525</th>\n",
              "      <td>526</td>\n",
              "      <td>Talisker Select Reserve, 45.8%</td>\n",
              "      <td>Single Malt Scotch</td>\n",
              "      <td>91</td>\n",
              "      <td>45.0</td>\n",
              "      <td>$</td>\n",
              "      <td>This is one of four new additions to the portf...</td>\n",
              "    </tr>\n",
              "    <tr>\n",
              "      <th>526</th>\n",
              "      <td>527</td>\n",
              "      <td>Kilchoman Loch Gorm 2018, 46%</td>\n",
              "      <td>Single Malt Scotch</td>\n",
              "      <td>91</td>\n",
              "      <td>110.0</td>\n",
              "      <td>$</td>\n",
              "      <td>Complex, elegant textures from the get-go; woo...</td>\n",
              "    </tr>\n",
              "    <tr>\n",
              "      <th>527</th>\n",
              "      <td>528</td>\n",
              "      <td>Sheep Dip Islay Blended Malt, 40%</td>\n",
              "      <td>Blended Malt Scotch Whisky</td>\n",
              "      <td>91</td>\n",
              "      <td>60.0</td>\n",
              "      <td>$</td>\n",
              "      <td>Fresh morning blooms in the flower shop, soft ...</td>\n",
              "    </tr>\n",
              "    <tr>\n",
              "      <th>535</th>\n",
              "      <td>536</td>\n",
              "      <td>Glenmorangie 14 year old Quinta Ruban, 46%</td>\n",
              "      <td>Single Malt Scotch</td>\n",
              "      <td>91</td>\n",
              "      <td>55.0</td>\n",
              "      <td>$</td>\n",
              "      <td>This represents House Greyjoy and features its...</td>\n",
              "    </tr>\n",
              "    <tr>\n",
              "      <th>541</th>\n",
              "      <td>542</td>\n",
              "      <td>Bruichladdich Bere Barley 2010, 50%</td>\n",
              "      <td>Single Malt Scotch</td>\n",
              "      <td>91</td>\n",
              "      <td>100.0</td>\n",
              "      <td>$</td>\n",
              "      <td>Six different cask finishes were used for this...</td>\n",
              "    </tr>\n",
              "    <tr>\n",
              "      <th>553</th>\n",
              "      <td>554</td>\n",
              "      <td>Glenmorangie 15 year old The Cadboll Estate, 43%</td>\n",
              "      <td>Single Malt Scotch</td>\n",
              "      <td>91</td>\n",
              "      <td>85.0</td>\n",
              "      <td>$</td>\n",
              "      <td>The first 15 year old release from Talisker, t...</td>\n",
              "    </tr>\n",
              "    <tr>\n",
              "      <th>615</th>\n",
              "      <td>616</td>\n",
              "      <td>Laphroaig Triple Wood, 48%</td>\n",
              "      <td>Single Malt Scotch</td>\n",
              "      <td>90</td>\n",
              "      <td>100.0</td>\n",
              "      <td>$</td>\n",
              "      <td>This is not a single-cask bottling like other ...</td>\n",
              "    </tr>\n",
              "    <tr>\n",
              "      <th>696</th>\n",
              "      <td>697</td>\n",
              "      <td>Compass Box The Peat Monster, 46%</td>\n",
              "      <td>Blended Scotch Whisky</td>\n",
              "      <td>90</td>\n",
              "      <td>60.0</td>\n",
              "      <td>$</td>\n",
              "      <td>Deep amber. Big, resinous, and almost heathery...</td>\n",
              "    </tr>\n",
              "    <tr>\n",
              "      <th>715</th>\n",
              "      <td>716</td>\n",
              "      <td>Glen Moray 18 year old, 47.2%</td>\n",
              "      <td>Single Malt Scotch</td>\n",
              "      <td>90</td>\n",
              "      <td>90.0</td>\n",
              "      <td>$</td>\n",
              "      <td>Having replaced the 16 year old Longmorn with ...</td>\n",
              "    </tr>\n",
              "    <tr>\n",
              "      <th>717</th>\n",
              "      <td>718</td>\n",
              "      <td>Bruichladdich Islay Barley 2010, 50%</td>\n",
              "      <td>Single Malt Scotch</td>\n",
              "      <td>90</td>\n",
              "      <td>65.0</td>\n",
              "      <td>$</td>\n",
              "      <td>This limited release was aged in seven cask ty...</td>\n",
              "    </tr>\n",
              "    <tr>\n",
              "      <th>728</th>\n",
              "      <td>729</td>\n",
              "      <td>Chapter 7 (undisclosed Highland distillery), 5...</td>\n",
              "      <td>Single Malt Scotch</td>\n",
              "      <td>90</td>\n",
              "      <td>180.0</td>\n",
              "      <td>$</td>\n",
              "      <td>Part of anCnoc’s Peaty Collection, Cutter has ...</td>\n",
              "    </tr>\n",
              "    <tr>\n",
              "      <th>774</th>\n",
              "      <td>775</td>\n",
              "      <td>Chivas Regal Ultis, 40%</td>\n",
              "      <td>Blended Malt Scotch Whisky</td>\n",
              "      <td>90</td>\n",
              "      <td>160.0</td>\n",
              "      <td>$</td>\n",
              "      <td>An array of flowers and fruits tumbles from th...</td>\n",
              "    </tr>\n",
              "    <tr>\n",
              "      <th>788</th>\n",
              "      <td>789</td>\n",
              "      <td>BenRiach 25 year old, 46.8%</td>\n",
              "      <td>Single Malt Scotch</td>\n",
              "      <td>90</td>\n",
              "      <td>300.0</td>\n",
              "      <td>$</td>\n",
              "      <td>This is the oldest regular bottling from Glenm...</td>\n",
              "    </tr>\n",
              "    <tr>\n",
              "      <th>809</th>\n",
              "      <td>810</td>\n",
              "      <td>Tomintoul 25 year old, 43%</td>\n",
              "      <td>Single Malt Scotch</td>\n",
              "      <td>90</td>\n",
              "      <td>500.0</td>\n",
              "      <td>$</td>\n",
              "      <td>Toiteach A Dhà means ‘smoky two’ in Gaelic and...</td>\n",
              "    </tr>\n",
              "    <tr>\n",
              "      <th>813</th>\n",
              "      <td>814</td>\n",
              "      <td>Balblair 15 year old, 46%</td>\n",
              "      <td>Single Malt Scotch</td>\n",
              "      <td>90</td>\n",
              "      <td>120.0</td>\n",
              "      <td>$</td>\n",
              "      <td>GlenDronach is known for its unpeated sherry-m...</td>\n",
              "    </tr>\n",
              "    <tr>\n",
              "      <th>845</th>\n",
              "      <td>846</td>\n",
              "      <td>Glenlivet Archive 21 year old, 43%</td>\n",
              "      <td>Single Malt Scotch</td>\n",
              "      <td>89</td>\n",
              "      <td>130.0</td>\n",
              "      <td>$</td>\n",
              "      <td>Amber with orange and ruby hues. Aromas of Isl...</td>\n",
              "    </tr>\n",
              "    <tr>\n",
              "      <th>853</th>\n",
              "      <td>854</td>\n",
              "      <td>Longmorn 16 year old, 48%</td>\n",
              "      <td>Single Malt Scotch</td>\n",
              "      <td>89</td>\n",
              "      <td>90.0</td>\n",
              "      <td>$</td>\n",
              "      <td>Mahogany color. Full-bodied, thick and chewy. ...</td>\n",
              "    </tr>\n",
              "    <tr>\n",
              "      <th>882</th>\n",
              "      <td>883</td>\n",
              "      <td>Longmorn 16 year old, 48%</td>\n",
              "      <td>Single Malt Scotch</td>\n",
              "      <td>89</td>\n",
              "      <td>110.0</td>\n",
              "      <td>$</td>\n",
              "      <td>Part of the “Rarest of the Rare” collection. M...</td>\n",
              "    </tr>\n",
              "    <tr>\n",
              "      <th>894</th>\n",
              "      <td>895</td>\n",
              "      <td>Caol Ila 12 year old, 43%</td>\n",
              "      <td>Single Malt Scotch</td>\n",
              "      <td>89</td>\n",
              "      <td>65.0</td>\n",
              "      <td>$</td>\n",
              "      <td>Soft and gentle (for Caol Ila, that is), thank...</td>\n",
              "    </tr>\n",
              "    <tr>\n",
              "      <th>1049</th>\n",
              "      <td>1050</td>\n",
              "      <td>Cutty Sark Prohibition, 50%</td>\n",
              "      <td>Blended Scotch Whisky</td>\n",
              "      <td>89</td>\n",
              "      <td>30.0</td>\n",
              "      <td>$</td>\n",
              "      <td>This expression replaces the previous 17 year ...</td>\n",
              "    </tr>\n",
              "    <tr>\n",
              "      <th>1114</th>\n",
              "      <td>1115</td>\n",
              "      <td>Benromach 10 year old, 43%</td>\n",
              "      <td>Single Malt Scotch</td>\n",
              "      <td>88</td>\n",
              "      <td>50.0</td>\n",
              "      <td>$</td>\n",
              "      <td>Lively on the nose for its age (and on the pal...</td>\n",
              "    </tr>\n",
              "    <tr>\n",
              "      <th>1120</th>\n",
              "      <td>1121</td>\n",
              "      <td>Springbank 18 year old, 46%</td>\n",
              "      <td>Single Malt Scotch</td>\n",
              "      <td>88</td>\n",
              "      <td>160.0</td>\n",
              "      <td>$</td>\n",
              "      <td>An elder Lagavulin. Thirty years of oak aging ...</td>\n",
              "    </tr>\n",
              "    <tr>\n",
              "      <th>1192</th>\n",
              "      <td>1193</td>\n",
              "      <td>Compass Box Great King Street Glasgow Blend, 43%</td>\n",
              "      <td>Blended Scotch Whisky</td>\n",
              "      <td>88</td>\n",
              "      <td>45.0</td>\n",
              "      <td>$</td>\n",
              "      <td>Just 279 bottles of this 22 year old single ca...</td>\n",
              "    </tr>\n",
              "    <tr>\n",
              "      <th>1487</th>\n",
              "      <td>1488</td>\n",
              "      <td>Glenrothes Vintage Reserve, 40%</td>\n",
              "      <td>Single Malt Scotch</td>\n",
              "      <td>87</td>\n",
              "      <td>60.0</td>\n",
              "      <td>$</td>\n",
              "      <td>Startlingly herbal. Penetrating, lifted, and a...</td>\n",
              "    </tr>\n",
              "    <tr>\n",
              "      <th>1495</th>\n",
              "      <td>1496</td>\n",
              "      <td>Glen Scotia Victoriana, 51.5%</td>\n",
              "      <td>Single Malt Scotch</td>\n",
              "      <td>87</td>\n",
              "      <td>115.0</td>\n",
              "      <td>$</td>\n",
              "      <td>This single cask 17 year old expression of Ben...</td>\n",
              "    </tr>\n",
              "    <tr>\n",
              "      <th>1504</th>\n",
              "      <td>1505</td>\n",
              "      <td>Benromach 15 year old, 43%</td>\n",
              "      <td>Single Malt Scotch</td>\n",
              "      <td>87</td>\n",
              "      <td>100.0</td>\n",
              "      <td>$</td>\n",
              "      <td>Last year’s was a top-notch, defiantly sherrie...</td>\n",
              "    </tr>\n",
              "    <tr>\n",
              "      <th>1632</th>\n",
              "      <td>1633</td>\n",
              "      <td>Springbank 15 year old, 46%</td>\n",
              "      <td>Single Malt Scotch</td>\n",
              "      <td>86</td>\n",
              "      <td>115.0</td>\n",
              "      <td>$</td>\n",
              "      <td>The latest While We Wait bottling comprises a ...</td>\n",
              "    </tr>\n",
              "    <tr>\n",
              "      <th>1635</th>\n",
              "      <td>1636</td>\n",
              "      <td>Tomintoul 16 year old, 40%</td>\n",
              "      <td>Single Malt Scotch</td>\n",
              "      <td>86</td>\n",
              "      <td>40.0</td>\n",
              "      <td>$</td>\n",
              "      <td>One of anCnoc’s peated expressions, Rascan’s b...</td>\n",
              "    </tr>\n",
              "    <tr>\n",
              "      <th>1742</th>\n",
              "      <td>1743</td>\n",
              "      <td>Aultmore 21 year old, 46%</td>\n",
              "      <td>Single Malt Scotch</td>\n",
              "      <td>86</td>\n",
              "      <td>199.0</td>\n",
              "      <td>$</td>\n",
              "      <td>One of the first releases from the recently fo...</td>\n",
              "    </tr>\n",
              "    <tr>\n",
              "      <th>1768</th>\n",
              "      <td>1769</td>\n",
              "      <td>Glen Scotia 15 year old, 46%</td>\n",
              "      <td>Single Malt Scotch</td>\n",
              "      <td>86</td>\n",
              "      <td>85.0</td>\n",
              "      <td>$</td>\n",
              "      <td>This is the first expression from Glen Garioch...</td>\n",
              "    </tr>\n",
              "    <tr>\n",
              "      <th>1920</th>\n",
              "      <td>1921</td>\n",
              "      <td>Wemyss Malts (distilled at Clynelish) “A Day a...</td>\n",
              "      <td>Single Malt Scotch</td>\n",
              "      <td>85</td>\n",
              "      <td>95.0</td>\n",
              "      <td>$</td>\n",
              "      <td>The newest release in Balvenie’s limited editi...</td>\n",
              "    </tr>\n",
              "    <tr>\n",
              "      <th>1939</th>\n",
              "      <td>1940</td>\n",
              "      <td>Glen Garioch Virgin Oak, 48%</td>\n",
              "      <td>Single Malt Scotch</td>\n",
              "      <td>85</td>\n",
              "      <td>120.0</td>\n",
              "      <td>$</td>\n",
              "      <td>An attempt to replicate the spirit produced at...</td>\n",
              "    </tr>\n",
              "    <tr>\n",
              "      <th>1998</th>\n",
              "      <td>1999</td>\n",
              "      <td>Glen Garioch 1797 Founder’s Reserve, 48%</td>\n",
              "      <td>Single Malt Scotch</td>\n",
              "      <td>85</td>\n",
              "      <td>46.0</td>\n",
              "      <td>$</td>\n",
              "      <td>The nose opens with savory notes. Richer, more...</td>\n",
              "    </tr>\n",
              "    <tr>\n",
              "      <th>2031</th>\n",
              "      <td>2032</td>\n",
              "      <td>Highland Queen Majesty 15 year old, 46%</td>\n",
              "      <td>Single Malt Scotch</td>\n",
              "      <td>85</td>\n",
              "      <td>50.0</td>\n",
              "      <td>$</td>\n",
              "      <td>Here, the distillery character is more restrai...</td>\n",
              "    </tr>\n",
              "    <tr>\n",
              "      <th>2062</th>\n",
              "      <td>2063</td>\n",
              "      <td>Springbank 10 year old, 46%</td>\n",
              "      <td>Single Malt Scotch</td>\n",
              "      <td>84</td>\n",
              "      <td>68.0</td>\n",
              "      <td>$</td>\n",
              "      <td>The black-labeled Carbon relates to heavily ch...</td>\n",
              "    </tr>\n",
              "    <tr>\n",
              "      <th>2078</th>\n",
              "      <td>2079</td>\n",
              "      <td>Auchentoshan 12 year old, 40%</td>\n",
              "      <td>Single Malt Scotch</td>\n",
              "      <td>84</td>\n",
              "      <td>48.0</td>\n",
              "      <td>$</td>\n",
              "      <td>Finished in a pedro ximinez cask. This is the ...</td>\n",
              "    </tr>\n",
              "    <tr>\n",
              "      <th>2088</th>\n",
              "      <td>2089</td>\n",
              "      <td>Tomintoul 14 year old, 46%</td>\n",
              "      <td>Single Malt Scotch</td>\n",
              "      <td>84</td>\n",
              "      <td>54.0</td>\n",
              "      <td>$</td>\n",
              "      <td>What is it with all these older, sherried bott...</td>\n",
              "    </tr>\n",
              "    <tr>\n",
              "      <th>2092</th>\n",
              "      <td>2093</td>\n",
              "      <td>Tomatin 30 year old, 46%</td>\n",
              "      <td>Single Malt Scotch</td>\n",
              "      <td>84</td>\n",
              "      <td>220.0</td>\n",
              "      <td>$</td>\n",
              "      <td>Thick and very tactile. Malty, with good heft....</td>\n",
              "    </tr>\n",
              "    <tr>\n",
              "      <th>2099</th>\n",
              "      <td>2100</td>\n",
              "      <td>Balblair 1989, 43%</td>\n",
              "      <td>Single Malt Scotch</td>\n",
              "      <td>84</td>\n",
              "      <td>94.0</td>\n",
              "      <td>$</td>\n",
              "      <td>Thick barley and viscous, with ever-present br...</td>\n",
              "    </tr>\n",
              "    <tr>\n",
              "      <th>2166</th>\n",
              "      <td>2167</td>\n",
              "      <td>Glen Scotia Double Cask, 46%</td>\n",
              "      <td>Single Malt Scotch</td>\n",
              "      <td>84</td>\n",
              "      <td>58.0</td>\n",
              "      <td>$</td>\n",
              "      <td>In style, this is closest to the 1978 in its l...</td>\n",
              "    </tr>\n",
              "  </tbody>\n",
              "</table>\n",
              "</div>"
            ],
            "text/plain": [
              "        id  ...                                description.1.2247.\n",
              "108    109  ...  \\r\\n\\r\\nLet this whisky glide into your glass ...\n",
              "192    193  ...  Aged in a European oak oloroso sherry hogshead...\n",
              "199    200  ...  Initially matured in bourbon barrels, then tra...\n",
              "202    203  ...  The nose offers canned peach halves in syrup, ...\n",
              "215    216  ...  This presents a mellow bouquet of rich dried f...\n",
              "217    218  ...  The yin to Aberlour A’bunadh’s yang, this cask...\n",
              "231    232  ...  An exceptional blend from first-fill American ...\n",
              "232    233  ...  Perfumed on the nose, with fresh-cut flowers, ...\n",
              "315    316  ...  It rarely gets better than this. Vanilla, almo...\n",
              "324    325  ...  This 42 year old expression was matured in a s...\n",
              "354    355  ...  Sun-bleached driftwood, iodine, curry spices, ...\n",
              "359    360  ...  Slightly oily on the nose, with old leather, g...\n",
              "376    377  ...  This Quinta Ruban succeeds the 12 year old ver...\n",
              "391    392  ...  On the nose, intense fruit underlaid with smok...\n",
              "393    394  ...  The nose is thick with bakeshop aromas: sponge...\n",
              "409    410  ...  This first cask-strength expression in Highlan...\n",
              "510    511  ...  This 23 year old expression was released for t...\n",
              "525    526  ...  This is one of four new additions to the portf...\n",
              "526    527  ...  Complex, elegant textures from the get-go; woo...\n",
              "527    528  ...  Fresh morning blooms in the flower shop, soft ...\n",
              "535    536  ...  This represents House Greyjoy and features its...\n",
              "541    542  ...  Six different cask finishes were used for this...\n",
              "553    554  ...  The first 15 year old release from Talisker, t...\n",
              "615    616  ...  This is not a single-cask bottling like other ...\n",
              "696    697  ...  Deep amber. Big, resinous, and almost heathery...\n",
              "715    716  ...  Having replaced the 16 year old Longmorn with ...\n",
              "717    718  ...  This limited release was aged in seven cask ty...\n",
              "728    729  ...  Part of anCnoc’s Peaty Collection, Cutter has ...\n",
              "774    775  ...  An array of flowers and fruits tumbles from th...\n",
              "788    789  ...  This is the oldest regular bottling from Glenm...\n",
              "809    810  ...  Toiteach A Dhà means ‘smoky two’ in Gaelic and...\n",
              "813    814  ...  GlenDronach is known for its unpeated sherry-m...\n",
              "845    846  ...  Amber with orange and ruby hues. Aromas of Isl...\n",
              "853    854  ...  Mahogany color. Full-bodied, thick and chewy. ...\n",
              "882    883  ...  Part of the “Rarest of the Rare” collection. M...\n",
              "894    895  ...  Soft and gentle (for Caol Ila, that is), thank...\n",
              "1049  1050  ...  This expression replaces the previous 17 year ...\n",
              "1114  1115  ...  Lively on the nose for its age (and on the pal...\n",
              "1120  1121  ...  An elder Lagavulin. Thirty years of oak aging ...\n",
              "1192  1193  ...  Just 279 bottles of this 22 year old single ca...\n",
              "1487  1488  ...  Startlingly herbal. Penetrating, lifted, and a...\n",
              "1495  1496  ...  This single cask 17 year old expression of Ben...\n",
              "1504  1505  ...  Last year’s was a top-notch, defiantly sherrie...\n",
              "1632  1633  ...  The latest While We Wait bottling comprises a ...\n",
              "1635  1636  ...  One of anCnoc’s peated expressions, Rascan’s b...\n",
              "1742  1743  ...  One of the first releases from the recently fo...\n",
              "1768  1769  ...  This is the first expression from Glen Garioch...\n",
              "1920  1921  ...  The newest release in Balvenie’s limited editi...\n",
              "1939  1940  ...  An attempt to replicate the spirit produced at...\n",
              "1998  1999  ...  The nose opens with savory notes. Richer, more...\n",
              "2031  2032  ...  Here, the distillery character is more restrai...\n",
              "2062  2063  ...  The black-labeled Carbon relates to heavily ch...\n",
              "2078  2079  ...  Finished in a pedro ximinez cask. This is the ...\n",
              "2088  2089  ...  What is it with all these older, sherried bott...\n",
              "2092  2093  ...  Thick and very tactile. Malty, with good heft....\n",
              "2099  2100  ...  Thick barley and viscous, with ever-present br...\n",
              "2166  2167  ...  In style, this is closest to the 1978 in its l...\n",
              "\n",
              "[57 rows x 7 columns]"
            ]
          },
          "metadata": {},
          "execution_count": 15
        }
      ]
    },
    {
      "cell_type": "code",
      "metadata": {
        "colab": {
          "base_uri": "https://localhost:8080/"
        },
        "id": "UhFJhtm6gxLD",
        "outputId": "e8aa94f6-a2ec-4496-e3a2-8a82b6b1aa90"
      },
      "source": [
        "# check for duplicate name\n",
        "scotch_dataset['name'].duplicated().sum()"
      ],
      "execution_count": null,
      "outputs": [
        {
          "output_type": "execute_result",
          "data": {
            "text/plain": [
              "57"
            ]
          },
          "metadata": {},
          "execution_count": 16
        }
      ]
    },
    {
      "cell_type": "code",
      "metadata": {
        "id": "DL8usmoDiiiN"
      },
      "source": [
        "# Merge duplicate name with joing the review and taking mean for other columns.\n",
        "scotch_dataset['review.point'] = scotch_dataset.groupby('name')['review.point'].transform('mean')\n",
        "scotch_dataset['price'] = scotch_dataset.groupby('name')['price'].transform('mean')\n",
        "scotch_dataset['description.1.2247.'] = scotch_dataset.groupby('name')['description.1.2247.'].transform(lambda x: ','.join(x))"
      ],
      "execution_count": null,
      "outputs": []
    },
    {
      "cell_type": "code",
      "metadata": {
        "id": "7gIUSmI5mTSl"
      },
      "source": [
        "# Drop the duplicate columns (keep the first each time)\n",
        "scotch_dataset.drop_duplicates(subset=['name'], keep='first', inplace=True)"
      ],
      "execution_count": null,
      "outputs": []
    },
    {
      "cell_type": "code",
      "metadata": {
        "id": "KlUXtnPOm7dZ"
      },
      "source": [
        "# Extract new features\n",
        "scotch_dataset['alcohol'] = scotch_dataset['name'].str.extract(r\"([\\(\\,\\,\\'\\\"\\’\\”\\$] ? ?\\d+(\\.\\d+)?%)\")[0]\n",
        "scotch_dataset['alcohol'] = scotch_dataset['alcohol'].str.replace(\"[^\\d\\.]\", \"\").astype(float)"
      ],
      "execution_count": null,
      "outputs": []
    },
    {
      "cell_type": "code",
      "metadata": {
        "colab": {
          "base_uri": "https://localhost:8080/"
        },
        "id": "h0zQ8L1iqTnU",
        "outputId": "326043b7-d62d-4b5a-9031-4e65a29ac583"
      },
      "source": [
        "scotch_dataset['alcohol']"
      ],
      "execution_count": null,
      "outputs": [
        {
          "output_type": "execute_result",
          "data": {
            "text/plain": [
              "0       40.5\n",
              "1       42.9\n",
              "2       40.0\n",
              "3       50.8\n",
              "4       45.4\n",
              "        ... \n",
              "2242    46.0\n",
              "2243     NaN\n",
              "2244    50.0\n",
              "2245    40.0\n",
              "2246    55.3\n",
              "Name: alcohol, Length: 2151, dtype: float64"
            ]
          },
          "metadata": {},
          "execution_count": 20
        }
      ]
    },
    {
      "cell_type": "code",
      "metadata": {
        "id": "ryKZgqyBnLpr"
      },
      "source": [
        "scotch_dataset['alcohol'] = scotch_dataset['alcohol'].fillna(scotch_dataset['alcohol'].mean())"
      ],
      "execution_count": null,
      "outputs": []
    },
    {
      "cell_type": "code",
      "metadata": {
        "colab": {
          "base_uri": "https://localhost:8080/"
        },
        "id": "Ef_f84vxpzpO",
        "outputId": "3a70d043-0fe8-4d73-8401-7a3a713a200d"
      },
      "source": [
        "scotch_dataset.isna().sum()"
      ],
      "execution_count": null,
      "outputs": [
        {
          "output_type": "execute_result",
          "data": {
            "text/plain": [
              "id                     0\n",
              "name                   0\n",
              "category               0\n",
              "review.point           0\n",
              "price                  0\n",
              "currency               0\n",
              "description.1.2247.    0\n",
              "alcohol                0\n",
              "dtype: int64"
            ]
          },
          "metadata": {},
          "execution_count": 22
        }
      ]
    },
    {
      "cell_type": "code",
      "metadata": {
        "id": "cHs05SiQrdij"
      },
      "source": [
        "# drop redundant columns\n",
        "scotch_dataset.drop(columns=['currency', 'id'], inplace=True)"
      ],
      "execution_count": null,
      "outputs": []
    },
    {
      "cell_type": "code",
      "metadata": {
        "id": "6FrrqozurTXj"
      },
      "source": [
        "scotch_dataset = scotch_dataset.rename(columns={'description.1.2247.': 'review_description'})"
      ],
      "execution_count": null,
      "outputs": []
    },
    {
      "cell_type": "code",
      "metadata": {
        "id": "k_wszCeAryGF"
      },
      "source": [
        "df = scotch_dataset.copy()"
      ],
      "execution_count": null,
      "outputs": []
    },
    {
      "cell_type": "code",
      "metadata": {
        "colab": {
          "base_uri": "https://localhost:8080/",
          "height": 142
        },
        "id": "bXAeggFjr6Il",
        "outputId": "704c2ca7-f405-4d9a-f897-6c9a99545df0"
      },
      "source": [
        "df.sample(3)"
      ],
      "execution_count": null,
      "outputs": [
        {
          "output_type": "execute_result",
          "data": {
            "text/html": [
              "<div>\n",
              "<style scoped>\n",
              "    .dataframe tbody tr th:only-of-type {\n",
              "        vertical-align: middle;\n",
              "    }\n",
              "\n",
              "    .dataframe tbody tr th {\n",
              "        vertical-align: top;\n",
              "    }\n",
              "\n",
              "    .dataframe thead th {\n",
              "        text-align: right;\n",
              "    }\n",
              "</style>\n",
              "<table border=\"1\" class=\"dataframe\">\n",
              "  <thead>\n",
              "    <tr style=\"text-align: right;\">\n",
              "      <th></th>\n",
              "      <th>id</th>\n",
              "      <th>name</th>\n",
              "      <th>category</th>\n",
              "      <th>review.point</th>\n",
              "      <th>price</th>\n",
              "      <th>currency</th>\n",
              "      <th>review_description</th>\n",
              "    </tr>\n",
              "  </thead>\n",
              "  <tbody>\n",
              "    <tr>\n",
              "      <th>2116</th>\n",
              "      <td>2117</td>\n",
              "      <td>Sir Edward’s 12 year old Blended Whisky, 40%</td>\n",
              "      <td>Blended Scotch Whisky</td>\n",
              "      <td>84</td>\n",
              "      <td>22</td>\n",
              "      <td>$</td>\n",
              "      <td>Matured exclusively in ex-bourbon barrels (Ame...</td>\n",
              "    </tr>\n",
              "    <tr>\n",
              "      <th>331</th>\n",
              "      <td>332</td>\n",
              "      <td>Glengoyne 30 year old (2017 Edition), 46.8%</td>\n",
              "      <td>Single Malt Scotch</td>\n",
              "      <td>92</td>\n",
              "      <td>800</td>\n",
              "      <td>$</td>\n",
              "      <td>Sandy Hyslop has excelled at solely blending E...</td>\n",
              "    </tr>\n",
              "    <tr>\n",
              "      <th>366</th>\n",
              "      <td>367</td>\n",
              "      <td>Bunnahabhain 18 year old, 46.3%</td>\n",
              "      <td>Single Malt Scotch</td>\n",
              "      <td>92</td>\n",
              "      <td>140</td>\n",
              "      <td>$</td>\n",
              "      <td>Mango, candied orange peel, coriander seed, cr...</td>\n",
              "    </tr>\n",
              "  </tbody>\n",
              "</table>\n",
              "</div>"
            ],
            "text/plain": [
              "        id  ...                                 review_description\n",
              "2116  2117  ...  Matured exclusively in ex-bourbon barrels (Ame...\n",
              "331    332  ...  Sandy Hyslop has excelled at solely blending E...\n",
              "366    367  ...  Mango, candied orange peel, coriander seed, cr...\n",
              "\n",
              "[3 rows x 7 columns]"
            ]
          },
          "metadata": {},
          "execution_count": 10
        }
      ]
    },
    {
      "cell_type": "markdown",
      "metadata": {
        "id": "rJwHcTM7sA7E"
      },
      "source": [
        "## EDA"
      ]
    },
    {
      "cell_type": "code",
      "metadata": {
        "id": "LJ7zlYxOsB10",
        "colab": {
          "base_uri": "https://localhost:8080/",
          "height": 296
        },
        "outputId": "e35efa9c-2657-498c-f9be-7d86d3cec0b3"
      },
      "source": [
        "sns.histplot(data=df, x=\"review.point\",kde=True, discrete = True, color='skyblue')\n"
      ],
      "execution_count": null,
      "outputs": [
        {
          "output_type": "execute_result",
          "data": {
            "text/plain": [
              "<matplotlib.axes._subplots.AxesSubplot at 0x7f74a97ae810>"
            ]
          },
          "metadata": {},
          "execution_count": 27
        },
        {
          "output_type": "display_data",
          "data": {
            "image/png": "[encoded data removed]",
            "text/plain": [
              "<Figure size 432x288 with 1 Axes>"
            ]
          },
          "metadata": {
            "needs_background": "light"
          }
        }
      ]
    },
    {
      "cell_type": "code",
      "metadata": {
        "colab": {
          "base_uri": "https://localhost:8080/",
          "height": 460
        },
        "id": "XykHyPRzvvwl",
        "outputId": "14b1566a-e4b5-44ad-b9f2-486683bd9c86"
      },
      "source": [
        "g2 = sns.catplot(x=\"category\", y = 'alcohol', data=df,\n",
        "            kind=\"box\", palette = sns.color_palette('Set3'), sym = '')\n",
        "g2.fig.suptitle(\"Distribution of Alcohol Percentage\",\n",
        "                  fontsize=20, fontdict={\"weight\": \"bold\"})\n",
        "g2.fig.subplots_adjust(top=0.9)\n",
        "g2.set_xticklabels(rotation = 30)\n",
        "g2.set(xlabel = 'Whisky Category', ylabel= 'Alcohol (%)')\n"
      ],
      "execution_count": null,
      "outputs": [
        {
          "output_type": "execute_result",
          "data": {
            "text/plain": [
              "<seaborn.axisgrid.FacetGrid at 0x7f74aa425610>"
            ]
          },
          "metadata": {},
          "execution_count": 28
        },
        {
          "output_type": "display_data",
          "data": {
            "image/png": "[encoded data removed]",
            "text/plain": [
              "<Figure size 360x360 with 1 Axes>"
            ]
          },
          "metadata": {
            "needs_background": "light"
          }
        }
      ]
    },
    {
      "cell_type": "code",
      "metadata": {
        "id": "NiWqwYHVvcWp",
        "colab": {
          "base_uri": "https://localhost:8080/",
          "height": 380
        },
        "outputId": "f0cd0d1b-7f90-4722-dac4-655cfe244e7a"
      },
      "source": [
        "df1 = df.drop(columns=['name', 'category', 'price', 'review_description'])\n",
        "sns.heatmap(df1)"
      ],
      "execution_count": null,
      "outputs": [
        {
          "output_type": "execute_result",
          "data": {
            "text/plain": [
              "<matplotlib.axes._subplots.AxesSubplot at 0x7f749b839290>"
            ]
          },
          "metadata": {},
          "execution_count": 69
        },
        {
          "output_type": "display_data",
          "data": {
            "image/png": "[encoded data removed]",
            "text/plain": [
              "<Figure size 600x400 with 2 Axes>"
            ]
          },
          "metadata": {}
        }
      ]
    },
    {
      "cell_type": "markdown",
      "metadata": {
        "id": "49CbeAz4Ar8s"
      },
      "source": [
        "## Alex EDA"
      ]
    },
    {
      "cell_type": "code",
      "metadata": {
        "id": "XoSALD3BxhTc",
        "colab": {
          "base_uri": "https://localhost:8080/"
        },
        "outputId": "0f5bf8db-3333-468a-c2df-0377be83284d"
      },
      "source": [
        "# SweetViz for EDA\n",
        "!pip install sweetviz"
      ],
      "execution_count": null,
      "outputs": [
        {
          "output_type": "stream",
          "name": "stdout",
          "text": [
            "Requirement already satisfied: sweetviz in /usr/local/lib/python3.7/dist-packages (2.1.3)\n",
            "Requirement already satisfied: jinja2>=2.11.1 in /usr/local/lib/python3.7/dist-packages (from sweetviz) (2.11.3)\n",
            "Requirement already satisfied: pandas!=1.0.0,!=1.0.1,!=1.0.2,>=0.25.3 in /usr/local/lib/python3.7/dist-packages (from sweetviz) (1.1.5)\n",
            "Requirement already satisfied: importlib-resources>=1.2.0 in /usr/local/lib/python3.7/dist-packages (from sweetviz) (5.4.0)\n",
            "Requirement already satisfied: matplotlib>=3.1.3 in /usr/local/lib/python3.7/dist-packages (from sweetviz) (3.2.2)\n",
            "Requirement already satisfied: tqdm>=4.43.0 in /usr/local/lib/python3.7/dist-packages (from sweetviz) (4.62.3)\n",
            "Requirement already satisfied: numpy>=1.16.0 in /usr/local/lib/python3.7/dist-packages (from sweetviz) (1.19.5)\n",
            "Requirement already satisfied: scipy>=1.3.2 in /usr/local/lib/python3.7/dist-packages (from sweetviz) (1.4.1)\n",
            "Requirement already satisfied: zipp>=3.1.0 in /usr/local/lib/python3.7/dist-packages (from importlib-resources>=1.2.0->sweetviz) (3.6.0)\n",
            "Requirement already satisfied: MarkupSafe>=0.23 in /usr/local/lib/python3.7/dist-packages (from jinja2>=2.11.1->sweetviz) (2.0.1)\n",
            "Requirement already satisfied: python-dateutil>=2.1 in /usr/local/lib/python3.7/dist-packages (from matplotlib>=3.1.3->sweetviz) (2.8.2)\n",
            "Requirement already satisfied: kiwisolver>=1.0.1 in /usr/local/lib/python3.7/dist-packages (from matplotlib>=3.1.3->sweetviz) (1.3.2)\n",
            "Requirement already satisfied: cycler>=0.10 in /usr/local/lib/python3.7/dist-packages (from matplotlib>=3.1.3->sweetviz) (0.11.0)\n",
            "Requirement already satisfied: pyparsing!=2.0.4,!=2.1.2,!=2.1.6,>=2.0.1 in /usr/local/lib/python3.7/dist-packages (from matplotlib>=3.1.3->sweetviz) (3.0.6)\n",
            "Requirement already satisfied: pytz>=2017.2 in /usr/local/lib/python3.7/dist-packages (from pandas!=1.0.0,!=1.0.1,!=1.0.2,>=0.25.3->sweetviz) (2018.9)\n",
            "Requirement already satisfied: six>=1.5 in /usr/local/lib/python3.7/dist-packages (from python-dateutil>=2.1->matplotlib>=3.1.3->sweetviz) (1.15.0)\n"
          ]
        }
      ]
    },
    {
      "cell_type": "code",
      "metadata": {
        "colab": {
          "base_uri": "https://localhost:8080/",
          "height": 66,
          "referenced_widgets": [
            "d00f3ba6e0d44389803e0e34b7abf3a2",
            "e08c8a9c60a64bb2a41de7c7f399161a",
            "364cc562c39f4a1ea793e82d620c4ca4",
            "4ce3609048b44ba6b5b8dbed09f44d99",
            "3c756890ef5744dfb51757024d7acbc4",
            "234d7fcd33f44f92aab0e6e24d7fcbe3",
            "1ed32d73e8da4e0d94fe8e0616f76ecf",
            "db80ab539a7147649469c22fc2f3c2cf",
            "69274bfeb2304b69813d26ee91660e03",
            "6fc626530ff9433b93796c86f93602b0",
            "77b457e2620c465c87db6444644a86fa"
          ]
        },
        "id": "bPnDjUdz_cD2",
        "outputId": "1b060705-a15b-4c1d-9bdf-0ca54147d48e"
      },
      "source": [
        "# importing sweetviz\n",
        "import sweetviz as sv\n",
        "#analyzing the dataset\n",
        "advert_report = sv.analyze(scotch_dataset)\n",
        "#display the report\n",
        "advert_report.show_html('Scotch_Dataset_sweetviz.html')"
      ],
      "execution_count": null,
      "outputs": [
        {
          "output_type": "display_data",
          "data": {
            "application/vnd.jupyter.widget-view+json": {
              "model_id": "d00f3ba6e0d44389803e0e34b7abf3a2",
              "version_minor": 0,
              "version_major": 2
            },
            "text/plain": [
              "                                             |          | [  0%]   00:00 -> (? left)"
            ]
          },
          "metadata": {}
        },
        {
          "output_type": "stream",
          "name": "stdout",
          "text": [
            "Report Scotch_Dataset_sweetviz.html was generated! NOTEBOOK/COLAB USERS: the web browser MAY not pop up, regardless, the report IS saved in your notebook/colab files.\n"
          ]
        }
      ]
    },
    {
      "cell_type": "code",
      "metadata": {
        "id": "9Usgg817ABAL"
      },
      "source": [
        "# importing sweetviz\n",
        "import sweetviz as sv\n",
        "#analyzing the dataset\n",
        "advert_report = sv.analyze(df)\n",
        "#display the report\n",
        "advert_report.show_html('Advertising.html')"
      ],
      "execution_count": null,
      "outputs": []
    },
    {
      "cell_type": "code",
      "metadata": {
        "id": "M_B0z_5uAOQI"
      },
      "source": [
        "# Compare() function of Sweetviz is used for comparison of the dataset.\n",
        "scotch_compare = sv.compare(scotch_dataset[100:], scotch_dataset[:100])\n",
        "scotch_compare.show_html('Compare.html')"
      ],
      "execution_count": null,
      "outputs": []
    },
    {
      "cell_type": "code",
      "metadata": {
        "colab": {
          "base_uri": "https://localhost:8080/",
          "height": 493
        },
        "id": "cylijBCVGA07",
        "outputId": "8ede3c55-a115-4fa1-cde8-ce6f1231225a"
      },
      "source": [
        "sns.set_style('whitegrid')\n",
        "plt.figure(figsize=(13, 5))\n",
        "review_points = scotch_dataset['review.point'].plot(kind='hist',figsize = (13, 5),title=\"Frequency of Review Grades\")\n",
        "plt.xlim(80, 100)\n",
        "review_points.set_xlabel(\"Review Points\")\n",
        "review_points.set_ylabel(\"Number of Whiskys Receiving Grade\")"
      ],
      "execution_count": null,
      "outputs": [
        {
          "output_type": "execute_result",
          "data": {
            "text/plain": [
              "Text(0, 0.5, 'Number of Whiskys Receiving Grade')"
            ]
          },
          "metadata": {},
          "execution_count": 68
        },
        {
          "output_type": "display_data",
          "data": {
            "image/png": "[encoded data removed]",
            "text/plain": [
              "<Figure size 1300x500 with 1 Axes>"
            ]
          },
          "metadata": {}
        }
      ]
    },
    {
      "cell_type": "code",
      "metadata": {
        "colab": {
          "base_uri": "https://localhost:8080/",
          "height": 520
        },
        "id": "i1j2iQjNBLCy",
        "outputId": "78edcf03-e70a-47fc-f23e-04d405909a71"
      },
      "source": [
        "sns.set_style('darkgrid')\n",
        "plt.figure(figsize=(10, 5))\n",
        "plt.suptitle(\"Distribution of Alcohol Percentage\", fontsize=20, fontdict={\"weight\": \"bold\"})\n",
        "plt.subplots_adjust(top=0.9)\n",
        "plt.xlabel = 'Whisky Category'\n",
        "plt.ylabel= 'Alcohol (%)'\n",
        "sns.boxplot(x=\"category\", y=\"review.point\", data=scotch_dataset)"
      ],
      "execution_count": null,
      "outputs": [
        {
          "output_type": "execute_result",
          "data": {
            "text/plain": [
              "<matplotlib.axes._subplots.AxesSubplot at 0x7f749be92750>"
            ]
          },
          "metadata": {},
          "execution_count": 51
        },
        {
          "output_type": "display_data",
          "data": {
            "image/png": "[encoded data removed]",
            "text/plain": [
              "<Figure size 1000x500 with 1 Axes>"
            ]
          },
          "metadata": {}
        }
      ]
    },
    {
      "cell_type": "code",
      "metadata": {
        "colab": {
          "base_uri": "https://localhost:8080/",
          "height": 470
        },
        "id": "VnAB0CpjDR5x",
        "outputId": "9d7c442e-c3ba-4292-a018-8ca30cb6169d"
      },
      "source": [
        "sns.set_style('whitegrid')\n",
        "plt.figure(figsize=(10, 5))\n",
        "sns.boxplot(x=\"category\", y=\"alcohol\", data=scotch_dataset)"
      ],
      "execution_count": null,
      "outputs": [
        {
          "output_type": "execute_result",
          "data": {
            "text/plain": [
              "<matplotlib.axes._subplots.AxesSubplot at 0x7f749c0c5810>"
            ]
          },
          "metadata": {},
          "execution_count": 47
        },
        {
          "output_type": "display_data",
          "data": {
            "image/png": "[encoded data removed]",
            "text/plain": [
              "<Figure size 1000x500 with 1 Axes>"
            ]
          },
          "metadata": {}
        }
      ]
    },
    {
      "cell_type": "code",
      "metadata": {
        "colab": {
          "base_uri": "https://localhost:8080/",
          "height": 528
        },
        "id": "a1WkitRkCdMW",
        "outputId": "ec07d64a-ea5a-4624-e817-ccdf9448ada1"
      },
      "source": [
        "sns.lmplot(x=\"review.point\", y=\"price\",  col=\"category\",hue=\"category\", data=scotch_dataset, height=6)"
      ],
      "execution_count": null,
      "outputs": [
        {
          "output_type": "execute_result",
          "data": {
            "text/plain": [
              "<seaborn.axisgrid.FacetGrid at 0x7f749c3613d0>"
            ]
          },
          "metadata": {},
          "execution_count": 39
        },
        {
          "output_type": "display_data",
          "data": {
            "image/png": "[encoded data removed]",
            "text/plain": [
              "<Figure size 1800x600 with 3 Axes>"
            ]
          },
          "metadata": {}
        }
      ]
    },
    {
      "cell_type": "code",
      "metadata": {
        "id": "Ilfp_3MeThfs"
      },
      "source": [
        "# Rafi's EDA\n",
        "group_by_category = scotch_dataset.groupby(by=['category'])\n",
        "scotch_dataset_data_avg = group_by_category.mean()\n",
        "scotch_dataset_data_count = group_by_category.count()"
      ],
      "execution_count": null,
      "outputs": []
    },
    {
      "cell_type": "code",
      "metadata": {
        "colab": {
          "base_uri": "https://localhost:8080/",
          "height": 562
        },
        "id": "M0Ffe0VoUGkq",
        "outputId": "0bfb7dd1-ab80-48e3-cd9d-4b0683696cad"
      },
      "source": [
        "scotch_dataset_data_count_series = scotch_dataset_data_count.iloc[:,0]\n",
        "features_of_interest = pd.DataFrame({'prices': scotch_dataset_data_avg['price'], 'availability': car_data_count_series})\n",
        "alternative_method = scotch_dataset_data_avg.merge(scotch_dataset_data_count, left_index=True, right_index=True, suffixes=['_avg','_count'])\n",
        "alternative_method[['price', 'name']].sort_values(by=['price', 'name'], ascending=True).plot(kind='barh')"
      ],
      "execution_count": null,
      "outputs": [
        {
          "output_type": "error",
          "ename": "KeyError",
          "evalue": "ignored",
          "traceback": [
            "\u001b[0;31m---------------------------------------------------------------------------\u001b[0m",
            "\u001b[0;31mKeyError\u001b[0m                                  Traceback (most recent call last)",
            "\u001b[0;32m/usr/local/lib/python3.7/dist-packages/pandas/core/indexes/base.py\u001b[0m in \u001b[0;36mget_loc\u001b[0;34m(self, key, method, tolerance)\u001b[0m\n\u001b[1;32m   2897\u001b[0m             \u001b[0;32mtry\u001b[0m\u001b[0;34m:\u001b[0m\u001b[0;34m\u001b[0m\u001b[0;34m\u001b[0m\u001b[0m\n\u001b[0;32m-> 2898\u001b[0;31m                 \u001b[0;32mreturn\u001b[0m \u001b[0mself\u001b[0m\u001b[0;34m.\u001b[0m\u001b[0m_engine\u001b[0m\u001b[0;34m.\u001b[0m\u001b[0mget_loc\u001b[0m\u001b[0;34m(\u001b[0m\u001b[0mcasted_key\u001b[0m\u001b[0;34m)\u001b[0m\u001b[0;34m\u001b[0m\u001b[0;34m\u001b[0m\u001b[0m\n\u001b[0m\u001b[1;32m   2899\u001b[0m             \u001b[0;32mexcept\u001b[0m \u001b[0mKeyError\u001b[0m \u001b[0;32mas\u001b[0m \u001b[0merr\u001b[0m\u001b[0;34m:\u001b[0m\u001b[0;34m\u001b[0m\u001b[0;34m\u001b[0m\u001b[0m\n",
            "\u001b[0;32mpandas/_libs/index.pyx\u001b[0m in \u001b[0;36mpandas._libs.index.IndexEngine.get_loc\u001b[0;34m()\u001b[0m\n",
            "\u001b[0;32mpandas/_libs/index.pyx\u001b[0m in \u001b[0;36mpandas._libs.index.IndexEngine.get_loc\u001b[0;34m()\u001b[0m\n",
            "\u001b[0;32mpandas/_libs/hashtable_class_helper.pxi\u001b[0m in \u001b[0;36mpandas._libs.hashtable.PyObjectHashTable.get_item\u001b[0;34m()\u001b[0m\n",
            "\u001b[0;32mpandas/_libs/hashtable_class_helper.pxi\u001b[0m in \u001b[0;36mpandas._libs.hashtable.PyObjectHashTable.get_item\u001b[0;34m()\u001b[0m\n",
            "\u001b[0;31mKeyError\u001b[0m: 'price'",
            "\nThe above exception was the direct cause of the following exception:\n",
            "\u001b[0;31mKeyError\u001b[0m                                  Traceback (most recent call last)",
            "\u001b[0;32m<ipython-input-37-84d35268c8dc>\u001b[0m in \u001b[0;36m<module>\u001b[0;34m()\u001b[0m\n\u001b[1;32m      1\u001b[0m \u001b[0mscotch_dataset_data_count_series\u001b[0m \u001b[0;34m=\u001b[0m \u001b[0mscotch_dataset_data_count\u001b[0m\u001b[0;34m.\u001b[0m\u001b[0miloc\u001b[0m\u001b[0;34m[\u001b[0m\u001b[0;34m:\u001b[0m\u001b[0;34m,\u001b[0m\u001b[0;36m0\u001b[0m\u001b[0;34m]\u001b[0m\u001b[0;34m\u001b[0m\u001b[0;34m\u001b[0m\u001b[0m\n\u001b[0;32m----> 2\u001b[0;31m \u001b[0mfeatures_of_interest\u001b[0m \u001b[0;34m=\u001b[0m \u001b[0mpd\u001b[0m\u001b[0;34m.\u001b[0m\u001b[0mDataFrame\u001b[0m\u001b[0;34m(\u001b[0m\u001b[0;34m{\u001b[0m\u001b[0;34m'prices'\u001b[0m\u001b[0;34m:\u001b[0m \u001b[0mscotch_dataset_data_avg\u001b[0m\u001b[0;34m[\u001b[0m\u001b[0;34m'price'\u001b[0m\u001b[0;34m]\u001b[0m\u001b[0;34m,\u001b[0m \u001b[0;34m'availability'\u001b[0m\u001b[0;34m:\u001b[0m \u001b[0mcar_data_count_series\u001b[0m\u001b[0;34m}\u001b[0m\u001b[0;34m)\u001b[0m\u001b[0;34m\u001b[0m\u001b[0;34m\u001b[0m\u001b[0m\n\u001b[0m\u001b[1;32m      3\u001b[0m \u001b[0malternative_method\u001b[0m \u001b[0;34m=\u001b[0m \u001b[0mscotch_dataset_data_avg\u001b[0m\u001b[0;34m.\u001b[0m\u001b[0mmerge\u001b[0m\u001b[0;34m(\u001b[0m\u001b[0mscotch_dataset_data_count\u001b[0m\u001b[0;34m,\u001b[0m \u001b[0mleft_index\u001b[0m\u001b[0;34m=\u001b[0m\u001b[0;32mTrue\u001b[0m\u001b[0;34m,\u001b[0m \u001b[0mright_index\u001b[0m\u001b[0;34m=\u001b[0m\u001b[0;32mTrue\u001b[0m\u001b[0;34m,\u001b[0m \u001b[0msuffixes\u001b[0m\u001b[0;34m=\u001b[0m\u001b[0;34m[\u001b[0m\u001b[0;34m'_avg'\u001b[0m\u001b[0;34m,\u001b[0m\u001b[0;34m'_count'\u001b[0m\u001b[0;34m]\u001b[0m\u001b[0;34m)\u001b[0m\u001b[0;34m\u001b[0m\u001b[0;34m\u001b[0m\u001b[0m\n\u001b[1;32m      4\u001b[0m \u001b[0malternative_method\u001b[0m\u001b[0;34m[\u001b[0m\u001b[0;34m[\u001b[0m\u001b[0;34m'price'\u001b[0m\u001b[0;34m,\u001b[0m \u001b[0;34m'name'\u001b[0m\u001b[0;34m]\u001b[0m\u001b[0;34m]\u001b[0m\u001b[0;34m.\u001b[0m\u001b[0msort_values\u001b[0m\u001b[0;34m(\u001b[0m\u001b[0mby\u001b[0m\u001b[0;34m=\u001b[0m\u001b[0;34m[\u001b[0m\u001b[0;34m'price'\u001b[0m\u001b[0;34m,\u001b[0m \u001b[0;34m'name'\u001b[0m\u001b[0;34m]\u001b[0m\u001b[0;34m,\u001b[0m \u001b[0mascending\u001b[0m\u001b[0;34m=\u001b[0m\u001b[0;32mTrue\u001b[0m\u001b[0;34m)\u001b[0m\u001b[0;34m.\u001b[0m\u001b[0mplot\u001b[0m\u001b[0;34m(\u001b[0m\u001b[0mkind\u001b[0m\u001b[0;34m=\u001b[0m\u001b[0;34m'barh'\u001b[0m\u001b[0;34m)\u001b[0m\u001b[0;34m\u001b[0m\u001b[0;34m\u001b[0m\u001b[0m\n",
            "\u001b[0;32m/usr/local/lib/python3.7/dist-packages/pandas/core/frame.py\u001b[0m in \u001b[0;36m__getitem__\u001b[0;34m(self, key)\u001b[0m\n\u001b[1;32m   2904\u001b[0m             \u001b[0;32mif\u001b[0m \u001b[0mself\u001b[0m\u001b[0;34m.\u001b[0m\u001b[0mcolumns\u001b[0m\u001b[0;34m.\u001b[0m\u001b[0mnlevels\u001b[0m \u001b[0;34m>\u001b[0m \u001b[0;36m1\u001b[0m\u001b[0;34m:\u001b[0m\u001b[0;34m\u001b[0m\u001b[0;34m\u001b[0m\u001b[0m\n\u001b[1;32m   2905\u001b[0m                 \u001b[0;32mreturn\u001b[0m \u001b[0mself\u001b[0m\u001b[0;34m.\u001b[0m\u001b[0m_getitem_multilevel\u001b[0m\u001b[0;34m(\u001b[0m\u001b[0mkey\u001b[0m\u001b[0;34m)\u001b[0m\u001b[0;34m\u001b[0m\u001b[0;34m\u001b[0m\u001b[0m\n\u001b[0;32m-> 2906\u001b[0;31m             \u001b[0mindexer\u001b[0m \u001b[0;34m=\u001b[0m \u001b[0mself\u001b[0m\u001b[0;34m.\u001b[0m\u001b[0mcolumns\u001b[0m\u001b[0;34m.\u001b[0m\u001b[0mget_loc\u001b[0m\u001b[0;34m(\u001b[0m\u001b[0mkey\u001b[0m\u001b[0;34m)\u001b[0m\u001b[0;34m\u001b[0m\u001b[0;34m\u001b[0m\u001b[0m\n\u001b[0m\u001b[1;32m   2907\u001b[0m             \u001b[0;32mif\u001b[0m \u001b[0mis_integer\u001b[0m\u001b[0;34m(\u001b[0m\u001b[0mindexer\u001b[0m\u001b[0;34m)\u001b[0m\u001b[0;34m:\u001b[0m\u001b[0;34m\u001b[0m\u001b[0;34m\u001b[0m\u001b[0m\n\u001b[1;32m   2908\u001b[0m                 \u001b[0mindexer\u001b[0m \u001b[0;34m=\u001b[0m \u001b[0;34m[\u001b[0m\u001b[0mindexer\u001b[0m\u001b[0;34m]\u001b[0m\u001b[0;34m\u001b[0m\u001b[0;34m\u001b[0m\u001b[0m\n",
            "\u001b[0;32m/usr/local/lib/python3.7/dist-packages/pandas/core/indexes/base.py\u001b[0m in \u001b[0;36mget_loc\u001b[0;34m(self, key, method, tolerance)\u001b[0m\n\u001b[1;32m   2898\u001b[0m                 \u001b[0;32mreturn\u001b[0m \u001b[0mself\u001b[0m\u001b[0;34m.\u001b[0m\u001b[0m_engine\u001b[0m\u001b[0;34m.\u001b[0m\u001b[0mget_loc\u001b[0m\u001b[0;34m(\u001b[0m\u001b[0mcasted_key\u001b[0m\u001b[0;34m)\u001b[0m\u001b[0;34m\u001b[0m\u001b[0;34m\u001b[0m\u001b[0m\n\u001b[1;32m   2899\u001b[0m             \u001b[0;32mexcept\u001b[0m \u001b[0mKeyError\u001b[0m \u001b[0;32mas\u001b[0m \u001b[0merr\u001b[0m\u001b[0;34m:\u001b[0m\u001b[0;34m\u001b[0m\u001b[0;34m\u001b[0m\u001b[0m\n\u001b[0;32m-> 2900\u001b[0;31m                 \u001b[0;32mraise\u001b[0m \u001b[0mKeyError\u001b[0m\u001b[0;34m(\u001b[0m\u001b[0mkey\u001b[0m\u001b[0;34m)\u001b[0m \u001b[0;32mfrom\u001b[0m \u001b[0merr\u001b[0m\u001b[0;34m\u001b[0m\u001b[0;34m\u001b[0m\u001b[0m\n\u001b[0m\u001b[1;32m   2901\u001b[0m \u001b[0;34m\u001b[0m\u001b[0m\n\u001b[1;32m   2902\u001b[0m         \u001b[0;32mif\u001b[0m \u001b[0mtolerance\u001b[0m \u001b[0;32mis\u001b[0m \u001b[0;32mnot\u001b[0m \u001b[0;32mNone\u001b[0m\u001b[0;34m:\u001b[0m\u001b[0;34m\u001b[0m\u001b[0;34m\u001b[0m\u001b[0m\n",
            "\u001b[0;31mKeyError\u001b[0m: 'price'"
          ]
        }
      ]
    }
  ]
}